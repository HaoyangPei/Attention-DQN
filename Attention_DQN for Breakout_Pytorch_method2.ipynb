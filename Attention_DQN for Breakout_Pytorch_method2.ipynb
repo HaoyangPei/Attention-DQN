{
  "nbformat": 4,
  "nbformat_minor": 0,
  "metadata": {
    "accelerator": "GPU",
    "colab": {
      "name": "Attention_DQN for Breakout_Pytorch_method2.ipynb",
      "provenance": [],
      "collapsed_sections": [],
      "machine_shape": "hm"
    },
    "kernelspec": {
      "display_name": "Python 3",
      "language": "python",
      "name": "python3"
    },
    "language_info": {
      "codemirror_mode": {
        "name": "ipython",
        "version": 3
      },
      "file_extension": ".py",
      "mimetype": "text/x-python",
      "name": "python",
      "nbconvert_exporter": "python",
      "pygments_lexer": "ipython3",
      "version": "3.8.6"
    }
  },
  "cells": [
    {
      "cell_type": "markdown",
      "metadata": {
        "id": "uiWUZa1_7KLl"
      },
      "source": [
        "# Apply another selective acttion model to DQN based on Atari Break game"
      ]
    },
    {
      "cell_type": "markdown",
      "metadata": {
        "id": "TPgwML2SVZ60"
      },
      "source": [
        "## 1. Prepare the basic environment\n",
        "\n",
        "In this part, we import the necessary lib for the project, which including gym related environment."
      ]
    },
    {
      "cell_type": "code",
      "metadata": {
        "id": "t6G7UxZmVC4L"
      },
      "source": [
        "# import\n",
        "import os\n",
        "from typing import Dict, List, Tuple\n",
        "from collections import deque\n",
        "import random\n",
        "import cv2\n",
        "import itertools\n",
        "\n",
        "import gym\n",
        "from gym import spaces\n",
        "from pyvirtualdisplay import Display\n",
        "from gym.spaces import Box\n",
        "from gym.spaces.box import Box\n",
        "from gym.core import ObservationWrapper\n",
        "from gym.core import Wrapper\n",
        "\n",
        "import pyglet\n",
        "from pyglet import gl\n",
        "\n",
        "import matplotlib.pyplot as plt\n",
        "import numpy as np\n",
        "from numpy import moveaxis\n",
        "import torch\n",
        "import torch.nn as nn\n",
        "import torch.nn.functional as F\n",
        "import torch.optim as optim\n",
        "from torch.utils.tensorboard import SummaryWriter\n",
        "from IPython.display import clear_output\n",
        "\n",
        "from tqdm import trange"
      ],
      "execution_count": null,
      "outputs": []
    },
    {
      "cell_type": "markdown",
      "metadata": {
        "id": "7Fziiy6T77Xr"
      },
      "source": [
        "We need to import the 'BreakoutNoFrameskip-v4' here but not the original environment. In this case, the training can be more faster.\n",
        "\n",
        "\n"
      ]
    },
    {
      "cell_type": "code",
      "metadata": {
        "id": "Ev8IXbK56ibX"
      },
      "source": [
        "ENV_NAME = 'BreakoutNoFrameskip-v4'"
      ],
      "execution_count": null,
      "outputs": []
    },
    {
      "cell_type": "markdown",
      "metadata": {
        "id": "F0cLL_LI8PvS"
      },
      "source": [
        "Make the enrionment and print to see the shape of action space and observation. We can see that Breakout game has 4 actions. And its observation space is 210* 160* 3 ."
      ]
    },
    {
      "cell_type": "code",
      "metadata": {
        "colab": {
          "base_uri": "https://localhost:8080/"
        },
        "id": "7hMWGe0JWNWS",
        "outputId": "04b5f2ed-32e9-431d-8fa5-3c699608157e"
      },
      "source": [
        "env = gym.make(ENV_NAME)\n",
        "\n",
        "print(env.action_space.n)\n",
        "print(env.observation_space)"
      ],
      "execution_count": null,
      "outputs": [
        {
          "output_type": "stream",
          "text": [
            "4\n",
            "Box(0, 255, (210, 160, 3), uint8)\n"
          ],
          "name": "stdout"
        }
      ]
    },
    {
      "cell_type": "markdown",
      "metadata": {
        "id": "mzpW2N0L8q6N"
      },
      "source": [
        "Since we use the New York University HPC, we need to load the basic apps for running this project. If you need to run it in other location."
      ]
    },
    {
      "cell_type": "code",
      "metadata": {
        "id": "Wvl5rWm36iba"
      },
      "source": [
        "!module load ffmpeg/4.2.4\n",
        "!module load python/intel/3.8.6"
      ],
      "execution_count": null,
      "outputs": []
    },
    {
      "cell_type": "code",
      "metadata": {
        "colab": {
          "base_uri": "https://localhost:8080/",
          "height": 287
        },
        "id": "DqDck41sbF7u",
        "scrolled": true,
        "outputId": "e1e7c983-b368-4ef4-9a3e-c018dfa72e78"
      },
      "source": [
        "render = True\n",
        "n_episodes = 1\n",
        "\n",
        "env.reset()\n",
        "prev_screen = env.render(mode='rgb_array')\n",
        "plt.imshow(prev_screen)"
      ],
      "execution_count": null,
      "outputs": [
        {
          "output_type": "execute_result",
          "data": {
            "text/plain": [
              "<matplotlib.image.AxesImage at 0x1527689d9370>"
            ]
          },
          "metadata": {
            "tags": []
          },
          "execution_count": 5
        },
        {
          "output_type": "display_data",
          "data": {
            "image/png": "[encoded data removed]",
            "text/plain": [
              "<Figure size 432x288 with 1 Axes>"
            ]
          },
          "metadata": {
            "tags": [],
            "needs_background": "light"
          }
        }
      ]
    },
    {
      "cell_type": "code",
      "metadata": {
        "id": "W6oJiuecukRQ"
      },
      "source": [
        "env.close()"
      ],
      "execution_count": null,
      "outputs": []
    },
    {
      "cell_type": "markdown",
      "metadata": {
        "id": "BMn3ur-U81AP"
      },
      "source": [
        "In order to test everything is setting, we run a random process on the environment.\n",
        "\n"
      ]
    },
    {
      "cell_type": "code",
      "metadata": {
        "colab": {
          "base_uri": "https://localhost:8080/"
        },
        "id": "2pr4mj1zqRgc",
        "outputId": "c868fd5f-78e8-4a04-bae4-4fda89ba8b6b"
      },
      "source": [
        "# https://github.com/nbgraham/RL-Race-Car-Simulator\n",
        "render = True\n",
        "n_episodes = 10\n",
        "\n",
        "rewards = []\n",
        "observation_list = []\n",
        "render_list = []\n",
        "for i_episode in range(n_episodes):\n",
        "    observation = env.reset()\n",
        "    sum_reward = 0\n",
        "    t = 0\n",
        "    while True:\n",
        "        if render:\n",
        "            render_list.append(env.render(mode='rgb_array'))\n",
        "\n",
        "        action = env.action_space.sample()\n",
        "        observation, reward, done, _ = env.step(action)\n",
        "        observation_list.append(observation)\n",
        "\n",
        "        # break\n",
        "        sum_reward += reward\n",
        "        \n",
        "        t+=1\n",
        "       \n",
        "        if done:\n",
        "            print(\"Episode {} finished after {} timesteps\".format(i_episode, t+1))\n",
        "            print(\"Reward: {}\".format(sum_reward))\n",
        "            rewards.append(sum_reward)\n",
        "            break"
      ],
      "execution_count": null,
      "outputs": [
        {
          "output_type": "stream",
          "text": [
            "Episode 0 finished after 799 timesteps\n",
            "Reward: 2.0\n",
            "Episode 1 finished after 1407 timesteps\n",
            "Reward: 6.0\n",
            "Episode 2 finished after 692 timesteps\n",
            "Reward: 1.0\n",
            "Episode 3 finished after 810 timesteps\n",
            "Reward: 2.0\n",
            "Episode 4 finished after 513 timesteps\n",
            "Reward: 0.0\n",
            "Episode 5 finished after 813 timesteps\n",
            "Reward: 2.0\n",
            "Episode 6 finished after 505 timesteps\n",
            "Reward: 0.0\n",
            "Episode 7 finished after 613 timesteps\n",
            "Reward: 1.0\n",
            "Episode 8 finished after 790 timesteps\n",
            "Reward: 2.0\n",
            "Episode 9 finished after 899 timesteps\n",
            "Reward: 2.0\n"
          ],
          "name": "stdout"
        }
      ]
    },
    {
      "cell_type": "code",
      "metadata": {
        "colab": {
          "base_uri": "https://localhost:8080/",
          "height": 287
        },
        "id": "idUrWO1ksag2",
        "scrolled": true,
        "outputId": "51ac1bfe-7296-4f77-8de5-26a79011a59c"
      },
      "source": [
        "plt.imshow(observation_list[0])\n",
        "print(observation_list[0].shape)"
      ],
      "execution_count": null,
      "outputs": [
        {
          "output_type": "stream",
          "text": [
            "(210, 160, 3)\n"
          ],
          "name": "stdout"
        },
        {
          "output_type": "display_data",
          "data": {
            "image/png": "[encoded data removed]",
            "text/plain": [
              "<Figure size 432x288 with 1 Axes>"
            ]
          },
          "metadata": {
            "tags": [],
            "needs_background": "light"
          }
        }
      ]
    },
    {
      "cell_type": "code",
      "metadata": {
        "colab": {
          "base_uri": "https://localhost:8080/",
          "height": 287
        },
        "id": "7jDIsi2Hteuh",
        "outputId": "3ca68cfb-cd18-4e23-8df4-1b78548f007f"
      },
      "source": [
        "plt.imshow(render_list[100])"
      ],
      "execution_count": null,
      "outputs": [
        {
          "output_type": "execute_result",
          "data": {
            "text/plain": [
              "<matplotlib.image.AxesImage at 0x1527687700d0>"
            ]
          },
          "metadata": {
            "tags": []
          },
          "execution_count": 9
        },
        {
          "output_type": "display_data",
          "data": {
            "image/png": "[encoded data removed]",
            "text/plain": [
              "<Figure size 432x288 with 1 Axes>"
            ]
          },
          "metadata": {
            "tags": [],
            "needs_background": "light"
          }
        }
      ]
    },
    {
      "cell_type": "markdown",
      "metadata": {
        "id": "ZQ7tEET76ibf"
      },
      "source": [
        "## 2.Import necessary python files"
      ]
    },
    {
      "cell_type": "markdown",
      "metadata": {
        "id": "lM_uf-ZZ6ibf"
      },
      "source": [
        "The code of part 2 is copied and modified from the Openai gym official files.\n",
        "\n",
        "https://github.com/openai/gym/tree/master/gym/wrappers\n",
        "The function of following code is to preprocess the environment, including clipping the reward to [-1,1], overwritting the step and reset function of the environment."
      ]
    },
    {
      "cell_type": "code",
      "metadata": {
        "id": "I-mAS6rK6ibg"
      },
      "source": [
        "class MaxAndSkipEnv(gym.Wrapper):\n",
        "    def __init__(self, env, skip=4):\n",
        "        \"\"\"Return only every `skip`-th frame\"\"\"\n",
        "        gym.Wrapper.__init__(self, env)\n",
        "        # most recent raw observations (for max pooling across time steps)\n",
        "        self._obs_buffer = np.zeros(\n",
        "            (2,) + env.observation_space.shape, dtype=np.uint8)\n",
        "        self._skip = skip\n",
        "\n",
        "    def step(self, action):\n",
        "        \"\"\"Repeat action, sum reward, and max over last observations.\"\"\"\n",
        "        total_reward = 0.0\n",
        "        done = None\n",
        "        for i in range(self._skip):\n",
        "            obs, reward, done, info = self.env.step(action)\n",
        "            if i == self._skip - 2:\n",
        "                self._obs_buffer[0] = obs\n",
        "            if i == self._skip - 1:\n",
        "                self._obs_buffer[1] = obs\n",
        "            total_reward += reward\n",
        "            if done:\n",
        "                break\n",
        "        # Note that the observation on the done=True frame\n",
        "        # doesn't matter\n",
        "        max_frame = self._obs_buffer.max(axis=0)\n",
        "\n",
        "        return max_frame, total_reward, done, info\n",
        "\n",
        "    def reset(self, **kwargs):\n",
        "        return self.env.reset(**kwargs)\n",
        "\n",
        "\n",
        "class ClipRewardEnv(gym.RewardWrapper):\n",
        "    def __init__(self, env):\n",
        "        gym.RewardWrapper.__init__(self, env)\n",
        "\n",
        "    def reward(self, reward):\n",
        "        \"\"\"Bin reward to {+1, 0, -1} by its sign.\"\"\"\n",
        "        return np.sign(reward)\n",
        "\n",
        "\n",
        "class FireResetEnv(gym.Wrapper):\n",
        "    def __init__(self, env):\n",
        "        \"\"\"Take action on reset for environments that are fixed until firing.\"\"\"\n",
        "        gym.Wrapper.__init__(self, env)\n",
        "        assert env.unwrapped.get_action_meanings()[1] == 'FIRE'\n",
        "        assert len(env.unwrapped.get_action_meanings()) >= 3\n",
        "\n",
        "    def reset(self, **kwargs):\n",
        "        self.env.reset(**kwargs)\n",
        "        obs, _, done, _ = self.env.step(1)\n",
        "        if done:\n",
        "            self.env.reset(**kwargs)\n",
        "        obs, _, done, _ = self.env.step(2)\n",
        "        if done:\n",
        "            self.env.reset(**kwargs)\n",
        "        return obs\n",
        "\n",
        "    def step(self, ac):\n",
        "        return self.env.step(ac)\n",
        "\n",
        "\n",
        "class EpisodicLifeEnv(gym.Wrapper):\n",
        "    def __init__(self, env):\n",
        "        \"\"\"Make end-of-life == end-of-episode, but only reset on true game over.\n",
        "        Done by DeepMind for the DQN and co. since it helps value estimation.\n",
        "        \"\"\"\n",
        "        gym.Wrapper.__init__(self, env)\n",
        "        self.lives = 0\n",
        "        self.was_real_done = True\n",
        "\n",
        "    def step(self, action):\n",
        "        obs, reward, done, info = self.env.step(action)\n",
        "        self.was_real_done = done\n",
        "        # check current lives, make loss of life terminal,\n",
        "        # then update lives to handle bonus lives\n",
        "        lives = self.env.unwrapped.ale.lives()\n",
        "        if lives < self.lives and lives > 0:\n",
        "            # for Qbert sometimes we stay in lives == 0 condition for a few frames\n",
        "            # so it's important to keep lives > 0, so that we only reset once\n",
        "            # the environment advertises done.\n",
        "            done = True\n",
        "        self.lives = lives\n",
        "        return obs, reward, done, info\n",
        "\n",
        "    def reset(self, **kwargs):\n",
        "        \"\"\"Reset only when lives are exhausted.\n",
        "        This way all states are still reachable even though lives are episodic,\n",
        "        and the learner need not know about any of this behind-the-scenes.\n",
        "        \"\"\"\n",
        "        if self.was_real_done:\n",
        "            obs = self.env.reset(**kwargs)\n",
        "        else:\n",
        "            # no-op step to advance from terminal/lost life state\n",
        "            obs, _, _, _ = self.env.step(0)\n",
        "        self.lives = self.env.unwrapped.ale.lives()\n",
        "        return obs\n",
        "\n",
        "\n",
        "# in torch imgs have shape [c, h, w] instead of common [h, w, c]\n",
        "class AntiTorchWrapper(gym.ObservationWrapper):\n",
        "    def __init__(self, env):\n",
        "        gym.ObservationWrapper.__init__(self, env)\n",
        "\n",
        "        self.img_size = [env.observation_space.shape[i]\n",
        "                         for i in [1, 2, 0]\n",
        "                         ]\n",
        "        self.observation_space = gym.spaces.Box(0.0, 1.0, self.img_size)\n",
        "\n",
        "    def observation(self, img):\n",
        "        \"\"\"what happens to each observation\"\"\"\n",
        "        img = img.transpose(1, 2, 0)\n",
        "        return img"
      ],
      "execution_count": null,
      "outputs": []
    },
    {
      "cell_type": "markdown",
      "metadata": {
        "id": "FymWrQf76ibn"
      },
      "source": [
        "The following code is copied from https://github.com/yandexdataschool/Practical_RL/blob/master/week04_approx_rl/framebuffer.py. The function of htis warpper is to concatenate four continuous frames."
      ]
    },
    {
      "cell_type": "code",
      "metadata": {
        "id": "B1_0r-Ay6ibq"
      },
      "source": [
        "class FrameBuffer(Wrapper):\n",
        "    def __init__(self, env, n_frames=4, dim_order='tensorflow'):\n",
        "        \"\"\"A gym wrapper that reshapes, crops and scales image into the desired shapes\"\"\"\n",
        "        super(FrameBuffer, self).__init__(env)\n",
        "        self.dim_order = dim_order\n",
        "        if dim_order == 'tensorflow':\n",
        "            height, width, n_channels = env.observation_space.shape\n",
        "            obs_shape = [height, width, n_channels * n_frames]\n",
        "        elif dim_order == 'pytorch':\n",
        "            n_channels, height, width = env.observation_space.shape\n",
        "            obs_shape = [n_channels * n_frames, height, width]\n",
        "        else:\n",
        "            raise ValueError(\n",
        "                'dim_order should be \"tensorflow\" or \"pytorch\", got {}'.format(dim_order))\n",
        "        self.observation_space = Box(0.0, 1.0, obs_shape)\n",
        "        self.framebuffer = np.zeros(obs_shape, 'float32')\n",
        "\n",
        "    def reset(self):\n",
        "        \"\"\"resets breakout, returns initial frames\"\"\"\n",
        "        self.framebuffer = np.zeros_like(self.framebuffer)\n",
        "        self.update_buffer(self.env.reset())\n",
        "        return self.framebuffer\n",
        "\n",
        "    def step(self, action):\n",
        "        \"\"\"plays breakout for 1 step, returns frame buffer\"\"\"\n",
        "        new_img, reward, done, info = self.env.step(action)\n",
        "        self.update_buffer(new_img)\n",
        "        return self.framebuffer, reward, done, info\n",
        "\n",
        "    def update_buffer(self, img):\n",
        "        if self.dim_order == 'tensorflow':\n",
        "            offset = self.env.observation_space.shape[-1]\n",
        "            axis = -1\n",
        "            cropped_framebuffer = self.framebuffer[:, :, :-offset]\n",
        "        elif self.dim_order == 'pytorch':\n",
        "            offset = self.env.observation_space.shape[0]\n",
        "            axis = 0\n",
        "            cropped_framebuffer = self.framebuffer[:-offset]\n",
        "        self.framebuffer = np.concatenate(\n",
        "            [img, cropped_framebuffer], axis=axis)"
      ],
      "execution_count": null,
      "outputs": []
    },
    {
      "cell_type": "markdown",
      "metadata": {
        "id": "ZQ2ik7pD6ibr"
      },
      "source": [
        "https://github.com/yandexdataschool/Practical_RL/blob/master/week04_approx_rl/utils.py"
      ]
    },
    {
      "cell_type": "code",
      "metadata": {
        "id": "A_XxODFK6ibr"
      },
      "source": [
        "import psutil\n",
        "from scipy.signal import fftconvolve, gaussian\n",
        "import os\n",
        "\n",
        "def get_cum_discounted_rewards(rewards, gamma):\n",
        "    \"\"\"\n",
        "    evaluates cumulative discounted rewards:\n",
        "    r_t + gamma * r_{t+1} + gamma^2 * r_{t_2} + ...\n",
        "    \"\"\"\n",
        "    cum_rewards = []\n",
        "    cum_rewards.append(rewards[-1])\n",
        "    for r in reversed(rewards[:-1]):\n",
        "        cum_rewards.insert(0, r + gamma * cum_rewards[0])\n",
        "    return cum_rewards\n",
        "\n",
        "\n",
        "def play_and_log_episode(env, agent, gamma=0.99, t_max=10000):\n",
        "    \"\"\"\n",
        "    always greedy\n",
        "    \"\"\"\n",
        "    states = []\n",
        "    v_mc = []\n",
        "    v_agent = []\n",
        "    q_spreads = []\n",
        "    td_errors = []\n",
        "    rewards = []\n",
        "\n",
        "    s = env.reset()\n",
        "    for step in range(t_max):\n",
        "        states.append(s)\n",
        "        qvalues = agent.get_qvalues([s])\n",
        "        max_q_value, min_q_value = np.max(qvalues), np.min(qvalues)\n",
        "        v_agent.append(max_q_value)\n",
        "        q_spreads.append(max_q_value - min_q_value)\n",
        "        if step > 0:\n",
        "            td_errors.append(\n",
        "                np.abs(rewards[-1] + gamma * v_agent[-1] - v_agent[-2]))\n",
        "\n",
        "        action = qvalues.argmax(axis=-1)[0]\n",
        "\n",
        "        s, r, done, _ = env.step(action)\n",
        "        rewards.append(r)\n",
        "        if done:\n",
        "            break\n",
        "    td_errors.append(np.abs(rewards[-1] + gamma * v_agent[-1] - v_agent[-2]))\n",
        "\n",
        "    v_mc = get_cum_discounted_rewards(rewards, gamma)\n",
        "\n",
        "    return_pack = {\n",
        "        'states': np.array(states),\n",
        "        'v_mc': np.array(v_mc),\n",
        "        'v_agent': np.array(v_agent),\n",
        "        'q_spreads': np.array(q_spreads),\n",
        "        'td_errors': np.array(td_errors),\n",
        "        'rewards': np.array(rewards),\n",
        "        'episode_finished': np.array(done)\n",
        "    }\n",
        "\n",
        "    return return_pack\n",
        "\n",
        "\n",
        "def img_by_obs(obs, state_dim):\n",
        "    \"\"\"\n",
        "    Unwraps obs by channels.\n",
        "    observation is of shape [c, h=w, w=h]\n",
        "    \"\"\"\n",
        "    return obs.reshape([-1, state_dim[2]])\n",
        "\n",
        "\n",
        "def is_enough_ram(min_available_gb=0.1):\n",
        "    mem = psutil.virtual_memory()\n",
        "    return mem.available >= min_available_gb * (1024 ** 3)\n",
        "\n",
        "\n",
        "def linear_decay(init_val, final_val, cur_step, total_steps):\n",
        "    if cur_step >= total_steps:\n",
        "        return final_val\n",
        "    return (init_val * (total_steps - cur_step) +\n",
        "            final_val * cur_step) / total_steps\n",
        "\n",
        "\n",
        "def smoothen(values):\n",
        "    kernel = gaussian(100, std=100)\n",
        "    # kernel = np.concatenate([np.arange(100), np.arange(99, -1, -1)])\n",
        "    kernel = kernel / np.sum(kernel)\n",
        "    return fftconvolve(values, kernel, 'valid')"
      ],
      "execution_count": null,
      "outputs": []
    },
    {
      "cell_type": "markdown",
      "metadata": {
        "id": "kUHmO4wF6ibs"
      },
      "source": [
        "https://github.com/openai/baselines/blob/master/baselines/deepq/replay_buffer.py"
      ]
    },
    {
      "cell_type": "code",
      "metadata": {
        "id": "dzwwTOy46ibt"
      },
      "source": [
        "class ReplayBuffer(object):\n",
        "    def __init__(self, size):\n",
        "        \"\"\"Create Replay buffer.\n",
        "        Parameters\n",
        "        ----------\n",
        "        size: int\n",
        "            Max number of transitions to store in the buffer. When the buffer\n",
        "            overflows the old memories are dropped.\n",
        "        \"\"\"\n",
        "        self._storage = []\n",
        "        self._maxsize = size\n",
        "        self._next_idx = 0\n",
        "\n",
        "    def __len__(self):\n",
        "        return len(self._storage)\n",
        "\n",
        "    def add(self, obs_t, action, reward, obs_tp1, done):\n",
        "        data = (obs_t, action, reward, obs_tp1, done)\n",
        "\n",
        "        if self._next_idx >= len(self._storage):\n",
        "            self._storage.append(data)\n",
        "        else:\n",
        "            self._storage[self._next_idx] = data\n",
        "        self._next_idx = (self._next_idx + 1) % self._maxsize\n",
        "\n",
        "    def _encode_sample(self, idxes):\n",
        "        obses_t, actions, rewards, obses_tp1, dones = [], [], [], [], []\n",
        "        for i in idxes:\n",
        "            data = self._storage[i]\n",
        "            obs_t, action, reward, obs_tp1, done = data\n",
        "            obses_t.append(np.array(obs_t, copy=False))\n",
        "            actions.append(np.array(action, copy=False))\n",
        "            rewards.append(reward)\n",
        "            obses_tp1.append(np.array(obs_tp1, copy=False))\n",
        "            dones.append(done)\n",
        "        return (\n",
        "            np.array(obses_t),\n",
        "            np.array(actions),\n",
        "            np.array(rewards),\n",
        "            np.array(obses_tp1),\n",
        "            np.array(dones)\n",
        "        )\n",
        "\n",
        "    def sample(self, batch_size):\n",
        "        \"\"\"Sample a batch of experiences.\n",
        "        Parameters\n",
        "        ----------\n",
        "        batch_size: int\n",
        "            How many transitions to sample.\n",
        "        Returns\n",
        "        -------\n",
        "        obs_batch: np.array\n",
        "            batch of observations\n",
        "        act_batch: np.array\n",
        "            batch of actions executed given obs_batch\n",
        "        rew_batch: np.array\n",
        "            rewards received as results of executing act_batch\n",
        "        next_obs_batch: np.array\n",
        "            next set of observations seen after executing act_batch\n",
        "        done_mask: np.array\n",
        "            done_mask[i] = 1 if executing act_batch[i] resulted in\n",
        "            the end of an episode and 0 otherwise.\n",
        "        \"\"\"\n",
        "        idxes = [\n",
        "            random.randint(0, len(self._storage) - 1)\n",
        "            for _ in range(batch_size)\n",
        "        ]\n",
        "        return self._encode_sample(idxes)"
      ],
      "execution_count": null,
      "outputs": []
    },
    {
      "cell_type": "markdown",
      "metadata": {
        "id": "JGUuw-Ro6ibu"
      },
      "source": [
        "## 3.Process the environment\n",
        "\n",
        "Crop the image to the size of 84* 84. Convert the RGB image to grayscale."
      ]
    },
    {
      "cell_type": "code",
      "metadata": {
        "id": "nTri045p6ibu"
      },
      "source": [
        "class PreprocessAtariObs(ObservationWrapper):\n",
        "    def __init__(self, env):\n",
        "        \"\"\"A gym wrapper that crops, scales image into the desired shapes and grayscales it.\"\"\"\n",
        "        ObservationWrapper.__init__(self, env)\n",
        "\n",
        "        self.img_size = (1, 84, 84)\n",
        "        self.observation_space = Box(0.0, 1.0, self.img_size)\n",
        "\n",
        "\n",
        "    def _to_gray_scale(self, rgb, channel_weights=[0.8, 0.1, 0.1]):        \n",
        "        pass\n",
        "\n",
        "\n",
        "    def observation(self, img):\n",
        "        \"\"\"what happens to each observation\"\"\"\n",
        "\n",
        "        # Here's what you need to do:\n",
        "        #  * crop image, remove irrelevant parts\n",
        "        #  * resize image to self.img_size\n",
        "        #     (use imresize from any library you want,\n",
        "        #      e.g. opencv, skimage, PIL, keras)\n",
        "        #  * cast image to grayscale\n",
        "        #  * convert image pixels to (0,1) range, float32 type\n",
        "        \n",
        "        img = img[30:-15, 8:-8, :]\n",
        "        img = cv2.resize(img, (self.img_size[1], self.img_size[2]))\n",
        "        img = img.mean(-1, keepdims=True)\n",
        "        img = moveaxis(img, 2, 0)\n",
        "        img = img.astype('float32') / 255.0\n",
        "\n",
        "        return img"
      ],
      "execution_count": null,
      "outputs": []
    },
    {
      "cell_type": "markdown",
      "metadata": {
        "id": "qrNo-Jl49nRb"
      },
      "source": [
        "Here, processing step has finished. We create a new environment and test its the code!"
      ]
    },
    {
      "cell_type": "code",
      "metadata": {
        "id": "iiM6N_Ev6ibv",
        "outputId": "082ee5fd-d4a9-479d-9664-8befbf5c4ee5"
      },
      "source": [
        "# spawn game instance for tests\n",
        "env = gym.make(ENV_NAME)  # create raw env\n",
        "env = PreprocessAtariObs(env)\n",
        "observation_shape = env.observation_space.shape\n",
        "n_actions = env.action_space.n\n",
        "env.reset()\n",
        "obs, _, _, _ = env.step(env.action_space.sample())\n",
        "\n",
        "# test observation\n",
        "assert obs.ndim == 3, \"observation must be [channel, h, w] even if there's just one channel\"\n",
        "assert obs.shape == observation_shape\n",
        "assert obs.dtype == 'float32'\n",
        "assert len(np.unique(obs)) > 2, \"your image must not be binary\"\n",
        "assert 0 <= np.min(obs) and np.max(\n",
        "    obs) <= 1, \"convert image pixels to [0,1] range\"\n",
        "\n",
        "assert np.max(obs) >= 0.5, \"It would be easier to see a brighter observation\"\n",
        "assert np.mean(obs) >= 0.1, \"It would be easier to see a brighter observation\"\n",
        "\n",
        "print(\"Formal tests seem fine.\")\n",
        "\n",
        "n_cols = 5\n",
        "n_rows = 2\n",
        "fig = plt.figure(figsize=(15, 5))\n",
        "obs = env.reset()\n",
        "for row in range(n_rows):\n",
        "    for col in range(n_cols):\n",
        "        ax = fig.add_subplot(n_rows, n_cols, row * n_cols + col + 1)\n",
        "        ax.imshow(obs[0, :, :], interpolation='none', cmap='gray')\n",
        "        obs, _, _, _ = env.step(env.action_space.sample())\n",
        "plt.show()"
      ],
      "execution_count": null,
      "outputs": [
        {
          "output_type": "stream",
          "text": [
            "Formal tests seem fine.\n"
          ],
          "name": "stdout"
        },
        {
          "output_type": "display_data",
          "data": {
            "image/png": "[encoded data removed]",
            "text/plain": [
              "<Figure size 1080x360 with 10 Axes>"
            ]
          },
          "metadata": {
            "tags": [],
            "needs_background": "light"
          }
        }
      ]
    },
    {
      "cell_type": "markdown",
      "metadata": {
        "id": "0nnYMcj66ibw"
      },
      "source": [
        "### Warpping"
      ]
    },
    {
      "cell_type": "markdown",
      "metadata": {
        "id": "7BiPjU-J9wIX"
      },
      "source": [
        "Create a function to process the environment in one step."
      ]
    },
    {
      "cell_type": "code",
      "metadata": {
        "id": "PMfOlqCO6ibw"
      },
      "source": [
        "def PrimaryAtariWrap(env, clip_rewards=True):\n",
        "    assert 'NoFrameskip' in env.spec.id\n",
        "\n",
        "    # This wrapper holds the same action for <skip> frames and outputs\n",
        "    # the maximal pixel value of 2 last frames (to handle blinking\n",
        "    # in some envs)\n",
        "    env = MaxAndSkipEnv(env, skip=4)\n",
        "\n",
        "    # This wrapper sends done=True when each life is lost\n",
        "    # (not all the 5 lives that are givern by the game rules).\n",
        "    # It should make easier for the agent to understand that losing is bad.\n",
        "    env = EpisodicLifeEnv(env)\n",
        "\n",
        "    # This wrapper laucnhes the ball when an episode starts.\n",
        "    # Without it the agent has to learn this action, too.\n",
        "    # Actually it can but learning would take longer.\n",
        "    env = FireResetEnv(env)\n",
        "\n",
        "    # This wrapper transforms rewards to {-1, 0, 1} according to their sign\n",
        "    if clip_rewards:\n",
        "        env = ClipRewardEnv(env)\n",
        "\n",
        "    # This wrapper is yours :)\n",
        "    env = PreprocessAtariObs(env)\n",
        "    return env"
      ],
      "execution_count": null,
      "outputs": []
    },
    {
      "cell_type": "markdown",
      "metadata": {
        "id": "gNfprDNY6ibx"
      },
      "source": [
        "### FrameBuffer"
      ]
    },
    {
      "cell_type": "markdown",
      "metadata": {
        "id": "xCYDZ7Fu94hT"
      },
      "source": [
        "Use FrameBuffer to concatenate the 4 consecutive frames"
      ]
    },
    {
      "cell_type": "code",
      "metadata": {
        "id": "PnwzpACz6ibx",
        "outputId": "e65ceb5c-031b-4018-a99b-360525c88286"
      },
      "source": [
        "def make_env(clip_rewards=True, seed=None):\n",
        "    env = gym.make(ENV_NAME)  # create raw env\n",
        "    if seed is not None:\n",
        "        env.seed(seed)\n",
        "    env = PrimaryAtariWrap(env, clip_rewards)\n",
        "    env = FrameBuffer(env, n_frames=4, dim_order='pytorch')\n",
        "    return env\n",
        "\n",
        "env = make_env()\n",
        "env.reset()\n",
        "n_actions = env.action_space.n\n",
        "state_shape = env.observation_space.shape\n",
        "print(n_actions)\n",
        "print(state_shape)"
      ],
      "execution_count": null,
      "outputs": [
        {
          "output_type": "stream",
          "text": [
            "4\n",
            "(4, 84, 84)\n"
          ],
          "name": "stdout"
        }
      ]
    },
    {
      "cell_type": "code",
      "metadata": {
        "id": "mjGPv5ne6ibx",
        "outputId": "461a1416-0e3e-442d-f691-2a61c5a23e52"
      },
      "source": [
        "for _ in range(12):\n",
        "    obs, _, _, _ = env.step(env.action_space.sample())\n",
        "    \n",
        "plt.figure(figsize=[15,5])\n",
        "plt.subplot(1,5,1)\n",
        "plt.title(\"Game image\")\n",
        "plt.imshow(env.render(\"rgb_array\"))\n",
        "plt.subplot(1,5,2)\n",
        "plt.imshow(img_by_obs(obs, state_shape)[0:83,:], cmap='gray')\n",
        "plt.subplot(1,5,3)\n",
        "plt.imshow(img_by_obs(obs, state_shape)[84:167,:], cmap='gray')\n",
        "plt.subplot(1,5,4)\n",
        "plt.imshow(img_by_obs(obs, state_shape)[168:251,:], cmap='gray')\n",
        "plt.subplot(1,5,5)\n",
        "plt.imshow(img_by_obs(obs, state_shape)[252:335,:], cmap='gray')\n",
        "plt.show()"
      ],
      "execution_count": null,
      "outputs": [
        {
          "output_type": "display_data",
          "data": {
            "image/png": "[encoded data removed]",
            "text/plain": [
              "<Figure size 1080x360 with 5 Axes>"
            ]
          },
          "metadata": {
            "tags": [],
            "needs_background": "light"
          }
        }
      ]
    },
    {
      "cell_type": "markdown",
      "metadata": {
        "id": "7uFkF_8u6iby"
      },
      "source": [
        "## 4.Build DQN Agent with Attention Ability"
      ]
    },
    {
      "cell_type": "code",
      "metadata": {
        "id": "bbwV58Ze6iby"
      },
      "source": [
        "device = torch.device('cuda' if torch.cuda.is_available() else 'cpu')"
      ],
      "execution_count": null,
      "outputs": []
    },
    {
      "cell_type": "markdown",
      "metadata": {
        "id": "LaRSJSo5_s6F"
      },
      "source": [
        "We need to design the Attention model first. In this method, we first get patch-based flatten images to compute the attention map and do importance voting to get the relative importance of each patches. Then, we reshape the importance vector to 27×27. Then, we use the transpose convolution\n",
        "layer to upsample the reshaped importance vector to the size of the input frame and multiply it with the input frames(element\u0002wise). Finally, we feed the result to the decision layer to get the Q-Values of each action."
      ]
    },
    {
      "cell_type": "code",
      "metadata": {
        "id": "gNDFAI3-6iby"
      },
      "source": [
        "class SelfAttention_2D(nn.Module):\n",
        "\n",
        "    def __init__(self, data_dim, dim_q):\n",
        "        super(SelfAttention_2D, self).__init__()\n",
        "        \n",
        "        self.convkernels = torch.ones((1,4,2,2)).to(device)\n",
        "        self.image_size = env.observation_space.shape[1]\n",
        "        self.patch_size = 5\n",
        "        self.patch_stride = 3\n",
        "        self.top_k = 5\n",
        "        \n",
        "        #get patch center location\n",
        "        n = int((self.image_size - self.patch_size) / self.patch_stride + 1)\n",
        "        offset = self.patch_size // 2\n",
        "        patch_centers = []\n",
        "        for i in range(n):\n",
        "            patch_center_row = offset + i * self.patch_stride\n",
        "            for j in range(n):\n",
        "                patch_center_col = offset + j * self.patch_stride\n",
        "                patch_centers.append([patch_center_row, patch_center_col])\n",
        "        self.patch_centers = torch.tensor(patch_centers).float()\n",
        "        num_patches = n ** 2\n",
        "        \n",
        "        self._layers = []\n",
        "        self.fc_q = nn.Linear(data_dim, dim_q)\n",
        "        self._layers.append(self.fc_q)\n",
        "        self.fc_k = nn.Linear(data_dim, dim_q)\n",
        "        self._layers.append(self.fc_k)\n",
        "        \n",
        "        self.up = nn.ConvTranspose2d(1,4,kernel_size=5, stride=3, padding=0, output_padding=1, padding_mode='zeros')\n",
        "    \n",
        "    def forward(self, input_data):\n",
        "        \n",
        "        # -------Input Transformation--------\n",
        "        # observation.shape = (b, h, w, c)\n",
        "        observation = input_data.permute(0, 2, 3, 1)\n",
        "        b, h, w, c = observation.size()\n",
        "        # dim = (b, 27, 84, 4, 5) -> (b, 27, 5, 84, 4) if image size = 84\n",
        "        patches = observation.unfold(1, self.patch_size, self.patch_stride).permute(0, 1, 4, 2, 3)      \n",
        "        # dim = (b, 27, 5, 27, 4, 5) -> (b, 27, 27, 5, 5, 4) if image size = 84\n",
        "        patches = patches.unfold(3, self.patch_size, self.patch_stride).permute(0, 1, 3, 2, 5, 4)   \n",
        "        # dim = (b, 729, 2, 2, 4) if image size = 84\n",
        "        patches = patches.reshape((-1, 27*27, self.patch_size, self.patch_size, c))\n",
        "        # flattened_patches.shape = (1, n, p * p * c)\n",
        "        flattened_patches = patches.reshape((-1, 27*27, c * self.patch_size ** 2))\n",
        "        \n",
        "        # Expect input_data to be of shape (b, t, k).\n",
        "        b, t, k = flattened_patches.size()\n",
        "\n",
        "        # Linear transforms.\n",
        "        queries = self.fc_q(input=flattened_patches)  # (b, t, q)\n",
        "        keys = self.fc_k(input=flattened_patches)  # (b, t, q)\n",
        "\n",
        "        # Attention matrix.\n",
        "        dot = torch.bmm(queries, keys.transpose(1, 2))  # (b, t, t)\n",
        "        scaled_dot = torch.div(dot, torch.sqrt(torch.tensor(k).float())) # scale\n",
        "        # weigted values\n",
        "        # patch_importance_matrix.shape = (b, n, n)\n",
        "        patch_importance_matrix = torch.softmax(scaled_dot, dim=-1)\n",
        "        # patch_importance.shape = (b, n,)\n",
        "        patch_importance = patch_importance_matrix.sum(dim=1)\n",
        "        patch_importance = self.up(patch_importance.reshape(-1,1,27,27))\n",
        "        \n",
        "        out = patch_importance*input_data\n",
        "        \n",
        "        # -------Patch Selection and Feature Extraction-------\n",
        "        # extract top k important patches\n",
        "        #patch_importance_sort_index = torch.argsort(patch_importance, descending=True, dim=1)\n",
        "        #top_k_patch_index = patch_importance_sort_index[:,:self.top_k]\n",
        "        # get top k important patches' centers position\n",
        "        #centers = self.patch_centers[top_k_patch_index]\n",
        "        #centers = centers.reshape(-1,5*2)\n",
        "        # normalize position\n",
        "        #centers = centers / self.image_size\n",
        "        #centers = centers.cuda()\n",
        "        \n",
        "        return out\n",
        "    \n",
        "    @property\n",
        "    def layers(self):\n",
        "        return self._layers"
      ],
      "execution_count": null,
      "outputs": []
    },
    {
      "cell_type": "code",
      "metadata": {
        "scrolled": false,
        "id": "GkuZCy7E6ibz",
        "outputId": "4d8e8ae5-7db2-4744-a57e-c09e5caf16bc"
      },
      "source": [
        "net = SelfAttention_2D(5*5*4, 4).to(device)\n",
        "a = torch.tensor(obs).unsqueeze(0).to(device)\n",
        "#b = F.conv2d(a, torch.ones((4,4,2,2)), bias=None, stride=2, padding=0, dilation=1, groups=1).detach()\n",
        "b = net(a)\n",
        "print(a.shape)\n",
        "print(b.shape)\n",
        "b = b.detach().squeeze(0).cpu().numpy()\n",
        "plt.imshow(b.reshape(-1,84), cmap='gray')"
      ],
      "execution_count": null,
      "outputs": [
        {
          "output_type": "stream",
          "text": [
            "torch.Size([1, 4, 84, 84])\n",
            "torch.Size([1, 4, 84, 84])\n"
          ],
          "name": "stdout"
        },
        {
          "output_type": "execute_result",
          "data": {
            "text/plain": [
              "<matplotlib.image.AxesImage at 0x14a86962a400>"
            ]
          },
          "metadata": {
            "tags": []
          },
          "execution_count": 35
        },
        {
          "output_type": "display_data",
          "data": {
            "image/png": "[encoded data removed]",
            "text/plain": [
              "<Figure size 432x288 with 1 Axes>"
            ]
          },
          "metadata": {
            "tags": [],
            "needs_background": "light"
          }
        }
      ]
    },
    {
      "cell_type": "markdown",
      "metadata": {
        "id": "D4cP-8eg_VLV"
      },
      "source": [
        "Design a DQN agent with a designed attention layer and 3 convolution layers, and use Relu as the activation function. The output layer is a dense layer with an action size output. It will decide the action according to a random choice or q values based on the epsilon(possibility value)."
      ]
    },
    {
      "cell_type": "code",
      "metadata": {
        "id": "scxJQt_m6ibz"
      },
      "source": [
        "class Attention_DQN_Agent(nn.Module):\n",
        "    def __init__(self, epsilon=0, is_show_attention_layer = False):\n",
        "        super().__init__()\n",
        "        \n",
        "        self.epsilon = epsilon\n",
        "        self.n_actions = env.action_space.n\n",
        "        self.obs_shape = env.observation_space.shape\n",
        "        \n",
        "        self.attention = SelfAttention_2D(5*5*4, 4)\n",
        "        \n",
        "        self.cnn = nn.Sequential(\n",
        "            nn.Conv2d(4, 32, kernel_size=5, stride=2),\n",
        "            nn.ReLU(),\n",
        "            nn.Conv2d(32, 64, kernel_size=3, stride=1),\n",
        "            nn.ReLU(),\n",
        "            nn.Flatten()\n",
        "        )\n",
        "        \n",
        "        self.out = nn.Sequential(\n",
        "            nn.Linear(92416, 256),\n",
        "            nn.ReLU(),\n",
        "            nn.Linear(256, self.n_actions)\n",
        "        )\n",
        "        \n",
        "        \n",
        "    def forward(self, x):\n",
        "        x = self.attention(x)\n",
        "        x = self.cnn(x)\n",
        "        x = self.out(x)\n",
        "        return x\n",
        "\n",
        "    def get_qvalues(self, states):\n",
        "        model_device = next(self.parameters()).device\n",
        "        states = torch.tensor(states, device=model_device, dtype=torch.float)\n",
        "        qvalues = self.forward(states)\n",
        "        return qvalues.data.cpu().numpy()\n",
        "\n",
        "    def sample_actions(self, qvalues):\n",
        "        epsilon = self.epsilon\n",
        "        batch_size, n_actions = qvalues.shape\n",
        "\n",
        "        random_actions = np.random.choice(n_actions, size=batch_size)\n",
        "        best_actions = qvalues.argmax(axis=-1)\n",
        "\n",
        "        should_explore = np.random.choice([0, 1], batch_size, p=[1-epsilon, epsilon])\n",
        "        return np.where(should_explore, random_actions, best_actions)"
      ],
      "execution_count": null,
      "outputs": []
    },
    {
      "cell_type": "code",
      "metadata": {
        "id": "9q7yT8TC6ibz",
        "outputId": "6cfc9789-1903-4fea-a8b6-00186d9ed383"
      },
      "source": [
        "a = torch.ones((16,4,84,84)).to(device)\n",
        "test = Attention_DQN_Agent().to(device)\n",
        "b = test(a)\n",
        "print(b.shape)"
      ],
      "execution_count": null,
      "outputs": [
        {
          "output_type": "stream",
          "text": [
            "torch.Size([16, 4])\n"
          ],
          "name": "stdout"
        }
      ]
    },
    {
      "cell_type": "code",
      "metadata": {
        "id": "q8fPFuEh6ib0"
      },
      "source": [
        "agent = Attention_DQN_Agent(epsilon=0.5).to(device)"
      ],
      "execution_count": null,
      "outputs": []
    },
    {
      "cell_type": "markdown",
      "metadata": {
        "id": "XNuZZ_xg6ib0"
      },
      "source": [
        "### Debug the model\n",
        "\n",
        "Test the agent to ensure the result is right!"
      ]
    },
    {
      "cell_type": "code",
      "metadata": {
        "id": "lEg7qLru6ib0"
      },
      "source": [
        "def evaluate(env, agent, n_games=1, greedy=False, t_max=10000):\n",
        "    \"\"\" Plays n_games full games. If greedy, picks actions as argmax(qvalues). Returns mean reward. \"\"\"\n",
        "    rewards = []\n",
        "    for _ in range(n_games):\n",
        "        s = env.reset()\n",
        "        reward = 0\n",
        "        for _ in range(t_max):\n",
        "            qvalues = agent.get_qvalues([s])\n",
        "            action = qvalues.argmax(axis=-1)[0] if greedy else agent.sample_actions(qvalues)[0]\n",
        "            s, r, done, _ = env.step(action)\n",
        "            reward += r\n",
        "            if done:\n",
        "                break\n",
        "\n",
        "        rewards.append(reward)\n",
        "    return np.mean(rewards)"
      ],
      "execution_count": null,
      "outputs": []
    },
    {
      "cell_type": "code",
      "metadata": {
        "id": "78FOwGoE6ib0",
        "outputId": "4d9fc47d-5097-413c-e13a-747fb35b36f9"
      },
      "source": [
        "evaluate(env, agent, n_games=1)"
      ],
      "execution_count": null,
      "outputs": [
        {
          "output_type": "execute_result",
          "data": {
            "text/plain": [
              "0.0"
            ]
          },
          "metadata": {
            "tags": []
          },
          "execution_count": 48
        }
      ]
    },
    {
      "cell_type": "markdown",
      "metadata": {
        "id": "Obl1-HeM6ib0"
      },
      "source": [
        "## 5.Define the Memory Buffer"
      ]
    },
    {
      "cell_type": "markdown",
      "metadata": {
        "id": "EMnkxNtgAIMv"
      },
      "source": [
        "Create the replay buffer and use the agent to play the game test the result."
      ]
    },
    {
      "cell_type": "code",
      "metadata": {
        "id": "VmRuYen66ib1"
      },
      "source": [
        "exp_replay = ReplayBuffer(10)\n",
        "\n",
        "for _ in range(30):\n",
        "    exp_replay.add(env.reset(), env.action_space.sample(),\n",
        "                   1.0, env.reset(), done=False)\n",
        "\n",
        "obs_batch, act_batch, reward_batch, next_obs_batch, is_done_batch = exp_replay.sample(5)\n",
        "\n",
        "assert len(exp_replay) == 10, \"experience replay size should be 10 because that's what maximum capacity is\""
      ],
      "execution_count": null,
      "outputs": []
    },
    {
      "cell_type": "code",
      "metadata": {
        "id": "thNty6VW6ib1"
      },
      "source": [
        "def play_and_record(initial_state, agent, env, exp_replay, n_steps=1):\n",
        "    \"\"\"\n",
        "    Play the game for exactly n steps, record every (s,a,r,s', done) to replay buffer. \n",
        "    Whenever game ends, add record with done=True and reset the game.\n",
        "    It is guaranteed that env has done=False when passed to this function.\n",
        "\n",
        "    PLEASE DO NOT RESET ENV UNLESS IT IS \"DONE\"\n",
        "\n",
        "    :returns: return sum of rewards over time and the state in which the env stays\n",
        "    \"\"\"\n",
        "    s = initial_state\n",
        "    sum_rewards = 0\n",
        "\n",
        "    # Play the game for n_steps as per instructions above\n",
        "    for i in range(n_steps):\n",
        "        \n",
        "        qvalues = agent.get_qvalues([s])\n",
        "        action = agent.sample_actions(qvalues)[0]\n",
        "        next_s, r, done, _ = env.step(action)\n",
        "        \n",
        "        sum_rewards += r\n",
        "        exp_replay.add(s, action, r, next_s, done)\n",
        "        \n",
        "        if done:\n",
        "            s = env.reset()\n",
        "        else:\n",
        "            s = next_s\n",
        "\n",
        "    return sum_rewards, s"
      ],
      "execution_count": null,
      "outputs": []
    },
    {
      "cell_type": "markdown",
      "metadata": {
        "id": "EdI870256ib1"
      },
      "source": [
        "## 6.Define Loss function"
      ]
    },
    {
      "cell_type": "markdown",
      "metadata": {
        "id": "6o1pDcVQAhjh"
      },
      "source": [
        "Define a Loss function to compute the loss value according the Q-learning function."
      ]
    },
    {
      "cell_type": "code",
      "metadata": {
        "id": "dLtFA3z76ib1"
      },
      "source": [
        "def compute_loss(states, actions, rewards, next_states, is_done, eval_network, target_network, gamma=0.99, check_shapes=False, device=device):\n",
        "    \"\"\" Compute td loss using torch operations only. Use the formulae above. \"\"\"\n",
        "    states = torch.tensor(states, device=device, dtype=torch.float)    # shape: [batch_size, *state_shape]\n",
        "\n",
        "    # for some torch reason should not make actions a tensor\n",
        "    actions = torch.tensor(actions, device=device, dtype=torch.long)    # shape: [batch_size]\n",
        "    rewards = torch.tensor(rewards, device=device, dtype=torch.float)  # shape: [batch_size]\n",
        "    # shape: [batch_size, *state_shape]\n",
        "    next_states = torch.tensor(next_states, device=device, dtype=torch.float)\n",
        "    is_done = torch.tensor(\n",
        "        is_done.astype('float32'),\n",
        "        device=device,\n",
        "        dtype=torch.float\n",
        "    )  # shape: [batch_size]\n",
        "    is_not_done = 1 - is_done\n",
        "\n",
        "    # get q-values for all actions in current states\n",
        "    predicted_qvalues = eval_network(states)\n",
        "\n",
        "    # compute q-values for all actions in next states\n",
        "    predicted_next_qvalues = target_network(next_states)\n",
        "    \n",
        "    # select q-values for chosen actions\n",
        "    predicted_qvalues_for_actions = predicted_qvalues[range(\n",
        "        len(actions)), actions]\n",
        "\n",
        "    # compute V*(next_states) using predicted next q-values\n",
        "    next_state_values, _ = torch.max(predicted_next_qvalues, 1)\n",
        "\n",
        "    assert next_state_values.dim(\n",
        "    ) == 1 and next_state_values.shape[0] == states.shape[0], \"must predict one value per state\"\n",
        "\n",
        "    # compute \"target q-values\" for loss - it's what's inside square parentheses in the above formula.\n",
        "    # at the last state use the simplified formula: Q(s,a) = r(s,a) since s' doesn't exist\n",
        "    # you can multiply next state values by is_not_done to achieve this.\n",
        "    target_qvalues_for_actions = rewards + (gamma * next_state_values * is_not_done)\n",
        "\n",
        "    # mean squared error loss to minimize\n",
        "    loss = torch.mean((predicted_qvalues_for_actions -\n",
        "                       target_qvalues_for_actions.detach()) ** 2)\n",
        "\n",
        "    if check_shapes:\n",
        "        assert predicted_next_qvalues.data.dim(\n",
        "        ) == 2, \"make sure you predicted q-values for all actions in next state\"\n",
        "        assert next_state_values.data.dim(\n",
        "        ) == 1, \"make sure you computed V(s') as maximum over just the actions axis and not all axes\"\n",
        "        assert target_qvalues_for_actions.data.dim(\n",
        "        ) == 1, \"there's something wrong with target q-values, they must be a vector\"\n",
        "\n",
        "    return loss"
      ],
      "execution_count": null,
      "outputs": []
    },
    {
      "cell_type": "markdown",
      "metadata": {
        "id": "nhHlf0bd6ib2"
      },
      "source": [
        "## 7. Training"
      ]
    },
    {
      "cell_type": "markdown",
      "metadata": {
        "id": "tuzkD2e_A08V"
      },
      "source": [
        "Set fixed random seed and Hyperparameters."
      ]
    },
    {
      "cell_type": "code",
      "metadata": {
        "id": "sBVPcfDG6ib2",
        "outputId": "22c1b21b-15e2-4455-f98b-599b1e08b210"
      },
      "source": [
        "seed = 4\n",
        "random.seed(seed)\n",
        "np.random.seed(seed)\n",
        "torch.manual_seed(seed)"
      ],
      "execution_count": null,
      "outputs": [
        {
          "output_type": "execute_result",
          "data": {
            "text/plain": [
              "<torch._C.Generator at 0x15276ad061f0>"
            ]
          },
          "metadata": {
            "tags": []
          },
          "execution_count": 34
        }
      ]
    },
    {
      "cell_type": "markdown",
      "metadata": {
        "id": "HylONxqNBpF4"
      },
      "source": [
        "As the training really takes time, we set checkpints and store the model in to lots of checkpints and when we reconnect to train, we can use the torch.load function to continuet he training process."
      ]
    },
    {
      "cell_type": "code",
      "metadata": {
        "id": "JZJRnmcW6ib2"
      },
      "source": [
        "STEP_PER_EPOCH = 1\n",
        "BATCH_SIZE = 16\n",
        "TOTAL_STEP = int(3e6)\n",
        "DECAY_SLOPE = int(1e6)\n",
        "INIT_EPSILON = 1\n",
        "FINAL_EPSILON = 0.1\n",
        "LOSS_FREQUENCY = 50\n",
        "TARGET_UPDATE = 5000\n",
        "EVAL_FREQUENCY = 5000\n",
        "max_grad_norm = 50\n",
        "n_lives = 5\n",
        "\n",
        "SAVE_PATH = \"/scratch/hp2173/AttentionDQN/Attention_DQN_Breakout_method2/\"\n",
        "LOAD_PATH = \"/scratch/hp2173/AttentionDQN/Attention_DQN_Breakout_method2/\"\n",
        "SAVE_INTERVAL = 10000\n",
        "\n",
        "LOG_DIR = \"/scratch/hp2173/AttentionDQN/Attention_DQN_Breakout_method2_log/\"\n",
        "summary_writer = SummaryWriter(LOG_DIR)"
      ],
      "execution_count": null,
      "outputs": []
    },
    {
      "cell_type": "markdown",
      "metadata": {
        "id": "A-d79JNLBPho"
      },
      "source": [
        "Create the eval net and the target net."
      ]
    },
    {
      "cell_type": "code",
      "metadata": {
        "id": "EGaQcheG6ib2"
      },
      "source": [
        "env = make_env(seed)\n",
        "state_shape = env.observation_space.shape\n",
        "n_actions = env.action_space.n\n",
        "state = env.reset()\n",
        "\n",
        "agent = Attention_DQN_Agent(epsilon=1).to(device)\n",
        "target_network = Attention_DQN_Agent().to(device)\n",
        "target_network.load_state_dict(agent.state_dict())\n",
        "optimizer = torch.optim.Adam(agent.parameters(), lr=1e-4)"
      ],
      "execution_count": null,
      "outputs": []
    },
    {
      "cell_type": "markdown",
      "metadata": {
        "id": "9bRrkHTUBMzN"
      },
      "source": [
        "Create a repaly buffer with the size of the 1e5"
      ]
    },
    {
      "cell_type": "code",
      "metadata": {
        "id": "rmLBV98y6ib3"
      },
      "source": [
        "exp_replay = ReplayBuffer(int(1e5))"
      ],
      "execution_count": null,
      "outputs": []
    },
    {
      "cell_type": "code",
      "metadata": {
        "id": "O4qVx_Yp6ib3"
      },
      "source": [
        "mean_rw_history = []\n",
        "loss_history = []\n",
        "grad_norm_history = []\n",
        "initial_state_q_history = []\n",
        "step = 0"
      ],
      "execution_count": null,
      "outputs": []
    },
    {
      "cell_type": "markdown",
      "metadata": {
        "id": "MP3kUVEtBdXX"
      },
      "source": [
        "Start to train and store the result in the tensorboard writter."
      ]
    },
    {
      "cell_type": "code",
      "metadata": {
        "scrolled": false,
        "id": "48eHAM7Q6ib3",
        "outputId": "9d89b689-3430-4cc4-9222-35f14410465a"
      },
      "source": [
        "state = env.reset()\n",
        "for step in trange(step, TOTAL_STEP + 1):\n",
        "\n",
        "    agent.epsilon = linear_decay(INIT_EPSILON, FINAL_EPSILON, step, DECAY_SLOPE)\n",
        "\n",
        "    # play\n",
        "    _, state = play_and_record(state, agent, env, exp_replay, STEP_PER_EPOCH)\n",
        "\n",
        "    # train\n",
        "    obs_batch, act_batch, reward_batch, next_obs_batch, is_done_batch = exp_replay.sample(BATCH_SIZE)\n",
        "\n",
        "    loss = compute_loss(obs_batch, act_batch, reward_batch, next_obs_batch, is_done_batch, agent, target_network, gamma=0.99, check_shapes=True)\n",
        "\n",
        "    loss.backward()\n",
        "    grad_norm = nn.utils.clip_grad_norm_(agent.parameters(), max_grad_norm)\n",
        "    optimizer.step()\n",
        "    optimizer.zero_grad()\n",
        "\n",
        "    if step % LOSS_FREQUENCY == 0:\n",
        "        loss_hist = loss.data.cpu().item()\n",
        "        loss_history.append(loss_hist)\n",
        "        summary_writer.add_scalar('Loss History', loss_hist, global_step=step)\n",
        "        grad_norm_history.append(grad_norm)\n",
        "        summary_writer.add_scalar('Gradient Norm', grad_norm, global_step=step)\n",
        "\n",
        "    if step % TARGET_UPDATE == 0:\n",
        "        # Load agent weights into target_network\n",
        "        target_network.load_state_dict(agent.state_dict())\n",
        "\n",
        "    if step % EVAL_FREQUENCY == 0:\n",
        "        mean_rw = evaluate(make_env(clip_rewards=True, seed=step), agent, n_games=3 * n_lives, greedy=True)\n",
        "        mean_rw_history.append(mean_rw)\n",
        "        summary_writer.add_scalar('Mean Reward per life', mean_rw, global_step=step)\n",
        "        \n",
        "        initial_state_q_values = np.max(agent.get_qvalues([make_env(seed=step).reset()]))\n",
        "        initial_state_q_history.append(initial_state_q_values)\n",
        "        summary_writer.add_scalar('Initial state Q values', initial_state_q_values, global_step=step)\n",
        "        \n",
        "    if step % SAVE_INTERVAL == 0:\n",
        "        if os.path.isdir(SAVE_PATH):\n",
        "            torch.save(agent.state_dict(),SAVE_PATH + 'Attention_DQN_Breakout{}.pth'.format(step))\n",
        "        else:\n",
        "            os.makedirs(SAVE_PATH, exist_ok=True)\n",
        "            torch.save(agent.state_dict(),SAVE_PATH + 'Attention_DQN_Breakout{}.pth'.format(step))\n",
        "        print('Checkpoint {} saved to {}'.format(step, SAVE_PATH + 'Attention_DQN_Breakout{}.pth'.format(step))) \n",
        "        \n",
        "\n",
        "        clear_output(True)\n",
        "        print(\"buffer size = %i, epsilon = %.5f\" %\n",
        "              (len(exp_replay), agent.epsilon))\n",
        "\n",
        "        plt.figure(figsize=[16, 9])\n",
        "\n",
        "        plt.subplot(2, 2, 1)\n",
        "        plt.title(\"Mean Reward per Life\")\n",
        "        plt.plot(mean_rw_history)\n",
        "        plt.grid()\n",
        "\n",
        "        assert not np.isnan(loss_history[-1])\n",
        "        plt.subplot(2, 2, 2)\n",
        "        plt.title(\"Loss History (smoothened)\")\n",
        "        plt.plot(smoothen(loss_history))\n",
        "        plt.grid()\n",
        "\n",
        "        plt.subplot(2, 2, 3)\n",
        "        plt.title(\"Initial State Q Value\")\n",
        "        plt.plot(initial_state_q_history)\n",
        "        plt.grid()\n",
        "\n",
        "        plt.subplot(2, 2, 4)\n",
        "        plt.title(\"Gradient Norm History (smoothened)\")\n",
        "        plt.plot(smoothen(grad_norm_history))\n",
        "        plt.grid()\n",
        "\n",
        "        plt.show()"
      ],
      "execution_count": null,
      "outputs": [
        {
          "output_type": "stream",
          "text": [
            "buffer size = 100000, epsilon = 0.10000\n"
          ],
          "name": "stdout"
        },
        {
          "output_type": "display_data",
          "data": {
            "image/png": "[encoded data removed]",
            "text/plain": [
              "<Figure size 1152x648 with 4 Axes>"
            ]
          },
          "metadata": {
            "tags": [],
            "needs_background": "light"
          }
        },
        {
          "output_type": "stream",
          "text": [
            "100%|██████████| 3000001/3000001 [16:54:34<00:00, 49.28it/s]\n"
          ],
          "name": "stderr"
        }
      ]
    },
    {
      "cell_type": "markdown",
      "metadata": {
        "id": "MhVnHN_j6ib4"
      },
      "source": [
        "## 8.Evaluation"
      ]
    },
    {
      "cell_type": "code",
      "metadata": {
        "id": "76m_BJ9F6ib4",
        "outputId": "47bd5373-425a-4c29-9b5f-9a9c7aed6ffb"
      },
      "source": [
        "agent.load_state_dict(torch.load(LOAD_PATH + 'Attention_DQN_Breakout{}.pth'.format(3000000)))"
      ],
      "execution_count": null,
      "outputs": [
        {
          "output_type": "execute_result",
          "data": {
            "text/plain": [
              "<All keys matched successfully>"
            ]
          },
          "metadata": {
            "tags": []
          },
          "execution_count": 36
        }
      ]
    },
    {
      "cell_type": "markdown",
      "metadata": {
        "id": "8U9J-aylCT_7"
      },
      "source": [
        "Run to test the final score."
      ]
    },
    {
      "cell_type": "code",
      "metadata": {
        "id": "1BornQKE6ib4",
        "outputId": "622b6cbb-e3aa-434b-ee93-b00342858a17"
      },
      "source": [
        "final_score = evaluate(\n",
        "  make_env(clip_rewards=False, seed=9),\n",
        "    agent, n_games=30, greedy=True, t_max=10 * 1000\n",
        ") * 5\n",
        "print('final score:', final_score)"
      ],
      "execution_count": null,
      "outputs": [
        {
          "output_type": "stream",
          "text": [
            "final score: 120.0\n"
          ],
          "name": "stdout"
        }
      ]
    },
    {
      "cell_type": "markdown",
      "metadata": {
        "id": "6LGroNKb6ib4"
      },
      "source": [
        "## 9.Dispaly the attention layer"
      ]
    },
    {
      "cell_type": "code",
      "metadata": {
        "id": "uRG9aMBf6ib4",
        "outputId": "befd3026-8509-41d7-d003-a8b2501475ed"
      },
      "source": [
        "#get patch center location\n",
        "n = int((84 - 5) / 3 + 1)\n",
        "offset = 5 // 2\n",
        "patch_centers = []\n",
        "for i in range(n):\n",
        "    patch_center_row = offset + i * 3\n",
        "    for j in range(n):\n",
        "        patch_center_col = offset + j * 3\n",
        "        patch_centers.append([patch_center_row, patch_center_col])\n",
        "patch_centers = torch.tensor(patch_centers).float()\n",
        "num_patches = n ** 2\n",
        "print(patch_centers.shape)"
      ],
      "execution_count": null,
      "outputs": [
        {
          "output_type": "stream",
          "text": [
            "torch.Size([729, 2])\n"
          ],
          "name": "stdout"
        }
      ]
    },
    {
      "cell_type": "code",
      "metadata": {
        "id": "s5hJHo8t6ib5"
      },
      "source": [
        "importance_vector = []\n",
        "input_hist = []\n",
        "class SelfAttention_2D(nn.Module):\n",
        "\n",
        "    def __init__(self, data_dim, dim_q):\n",
        "        super(SelfAttention_2D, self).__init__()\n",
        "        \n",
        "        self.convkernels = torch.ones((1,4,2,2)).to(device)\n",
        "        self.image_size = env.observation_space.shape[1]\n",
        "        self.patch_size = 5\n",
        "        self.patch_stride = 3\n",
        "        self.top_k = 5\n",
        "        \n",
        "        #get patch center location\n",
        "        n = int((self.image_size - self.patch_size) / self.patch_stride + 1)\n",
        "        offset = self.patch_size // 2\n",
        "        patch_centers = []\n",
        "        for i in range(n):\n",
        "            patch_center_row = offset + i * self.patch_stride\n",
        "            for j in range(n):\n",
        "                patch_center_col = offset + j * self.patch_stride\n",
        "                patch_centers.append([patch_center_row, patch_center_col])\n",
        "        self.patch_centers = torch.tensor(patch_centers).float()\n",
        "        num_patches = n ** 2\n",
        "        \n",
        "        self._layers = []\n",
        "        self.fc_q = nn.Linear(data_dim, dim_q)\n",
        "        self._layers.append(self.fc_q)\n",
        "        self.fc_k = nn.Linear(data_dim, dim_q)\n",
        "        self._layers.append(self.fc_k)\n",
        "        \n",
        "        self.up = nn.ConvTranspose2d(1,4,kernel_size=5, stride=3, padding=0, output_padding=1, padding_mode='zeros')\n",
        "    \n",
        "    def forward(self, input_data):\n",
        "        \n",
        "        # -------Input Transformation--------\n",
        "        # observation.shape = (b, h, w, c)\n",
        "        observation = input_data.permute(0, 2, 3, 1)\n",
        "        b, h, w, c = observation.size()\n",
        "        # dim = (b, 27, 84, 4, 5) -> (b, 27, 5, 84, 4) if image size = 84\n",
        "        patches = observation.unfold(1, self.patch_size, self.patch_stride).permute(0, 1, 4, 2, 3)      \n",
        "        # dim = (b, 27, 5, 27, 4, 5) -> (b, 27, 27, 5, 5, 4) if image size = 84\n",
        "        patches = patches.unfold(3, self.patch_size, self.patch_stride).permute(0, 1, 3, 2, 5, 4)   \n",
        "        # dim = (b, 729, 2, 2, 4) if image size = 84\n",
        "        patches = patches.reshape((-1, 27*27, self.patch_size, self.patch_size, c))\n",
        "        # flattened_patches.shape = (1, n, p * p * c)\n",
        "        flattened_patches = patches.reshape((-1, 27*27, c * self.patch_size ** 2))\n",
        "        \n",
        "        # Expect input_data to be of shape (b, t, k).\n",
        "        b, t, k = flattened_patches.size()\n",
        "\n",
        "        # Linear transforms.\n",
        "        queries = self.fc_q(input=flattened_patches)  # (b, t, q)\n",
        "        keys = self.fc_k(input=flattened_patches)  # (b, t, q)\n",
        "\n",
        "        # Attention matrix.\n",
        "        dot = torch.bmm(queries, keys.transpose(1, 2))  # (b, t, t)\n",
        "        scaled_dot = torch.div(dot, torch.sqrt(torch.tensor(k).float())) # scale\n",
        "        # weigted values\n",
        "        # patch_importance_matrix.shape = (b, n, n)\n",
        "        patch_importance_matrix = torch.softmax(scaled_dot, dim=-1)\n",
        "        # patch_importance.shape = (b, n,)\n",
        "        patch_importance = patch_importance_matrix.sum(dim=1)\n",
        "        \n",
        "        importance_vector.append(patch_importance.detach().cpu().numpy())\n",
        "        input_hist.append(input_data.detach().cpu().numpy())\n",
        "        \n",
        "        patch_importance = self.up(patch_importance.reshape(-1,1,27,27))\n",
        "        \n",
        "        out = patch_importance*input_data\n",
        "        \n",
        "        # -------Patch Selection and Feature Extraction-------\n",
        "        # extract top k important patches\n",
        "        #patch_importance_sort_index = torch.argsort(patch_importance, descending=True, dim=1)\n",
        "        #top_k_patch_index = patch_importance_sort_index[:,:self.top_k]\n",
        "        # get top k important patches' centers position\n",
        "        #centers = self.patch_centers[top_k_patch_index]\n",
        "        #centers = centers.reshape(-1,5*2)\n",
        "        # normalize position\n",
        "        #centers = centers / self.image_size\n",
        "        #centers = centers.cuda()\n",
        "        \n",
        "        return out\n",
        "    \n",
        "    @property\n",
        "    def layers(self):\n",
        "        return self._layers"
      ],
      "execution_count": null,
      "outputs": []
    },
    {
      "cell_type": "code",
      "metadata": {
        "id": "pQU6zv016ib5"
      },
      "source": [
        "class Attention_DQN_Agent(nn.Module):\n",
        "    def __init__(self, epsilon=0, is_show_attention_layer = False):\n",
        "        super().__init__()\n",
        "        \n",
        "        self.epsilon = epsilon\n",
        "        self.n_actions = env.action_space.n\n",
        "        self.obs_shape = env.observation_space.shape\n",
        "        \n",
        "        self.attention = SelfAttention_2D(5*5*4, 4)\n",
        "        \n",
        "        self.cnn = nn.Sequential(\n",
        "            nn.Conv2d(4, 32, kernel_size=5, stride=2),\n",
        "            nn.ReLU(),\n",
        "            nn.Conv2d(32, 64, kernel_size=3, stride=1),\n",
        "            nn.ReLU(),\n",
        "            nn.Flatten()\n",
        "        )\n",
        "        \n",
        "        self.out = nn.Sequential(\n",
        "            nn.Linear(92416, 256),\n",
        "            nn.ReLU(),\n",
        "            nn.Linear(256, self.n_actions)\n",
        "        )\n",
        "        \n",
        "        \n",
        "    def forward(self, x):\n",
        "        x = self.attention(x)\n",
        "        x = self.cnn(x)\n",
        "        x = self.out(x)\n",
        "        return x\n",
        "\n",
        "    def get_qvalues(self, states):\n",
        "        model_device = next(self.parameters()).device\n",
        "        states = torch.tensor(states, device=model_device, dtype=torch.float)\n",
        "        qvalues = self.forward(states)\n",
        "        return qvalues.data.cpu().numpy()\n",
        "\n",
        "    def sample_actions(self, qvalues):\n",
        "        epsilon = self.epsilon\n",
        "        batch_size, n_actions = qvalues.shape\n",
        "\n",
        "        random_actions = np.random.choice(n_actions, size=batch_size)\n",
        "        best_actions = qvalues.argmax(axis=-1)\n",
        "\n",
        "        should_explore = np.random.choice([0, 1], batch_size, p=[1-epsilon, epsilon])\n",
        "        return np.where(should_explore, random_actions, best_actions)"
      ],
      "execution_count": null,
      "outputs": []
    },
    {
      "cell_type": "code",
      "metadata": {
        "id": "ThlGMFa96ib6",
        "outputId": "ee4c2166-80c8-4550-a521-d58e3765e9f0"
      },
      "source": [
        "testagent = Attention_DQN_Agent(epsilon=0.1).to(device)\n",
        "LOAD_PATH = \"/scratch/hp2173/AttentionDQN/Attention_DQN_Breakout_method2/\"\n",
        "testagent.load_state_dict(torch.load(LOAD_PATH + 'Attention_DQN_Breakout{}.pth'.format(3000000)))"
      ],
      "execution_count": null,
      "outputs": [
        {
          "output_type": "execute_result",
          "data": {
            "text/plain": [
              "<All keys matched successfully>"
            ]
          },
          "metadata": {
            "tags": []
          },
          "execution_count": 42
        }
      ]
    },
    {
      "cell_type": "code",
      "metadata": {
        "id": "F8N2Z-wh6ib6",
        "outputId": "1d3a9a4c-3fb7-4525-c2c2-d1c7cbef60d4"
      },
      "source": [
        "final_score = evaluate(\n",
        "  make_env(clip_rewards=False, seed=9),\n",
        "    testagent, n_games=1, greedy=True, t_max=10 * 1000\n",
        ")*5\n",
        "print('final score:', final_score)"
      ],
      "execution_count": null,
      "outputs": [
        {
          "output_type": "stream",
          "text": [
            "final score: 120.0\n"
          ],
          "name": "stdout"
        }
      ]
    },
    {
      "cell_type": "code",
      "metadata": {
        "id": "II20PoHQ6ib6",
        "outputId": "de5a50c2-aa78-4906-9c35-537a35953e5c"
      },
      "source": [
        "print(len(importance_vector))\n",
        "print(len(input_hist))"
      ],
      "execution_count": null,
      "outputs": [
        {
          "output_type": "stream",
          "text": [
            "579\n",
            "579\n"
          ],
          "name": "stdout"
        }
      ]
    },
    {
      "cell_type": "code",
      "metadata": {
        "id": "87tJgPp46ib6"
      },
      "source": [
        "importance_vector[300]\n",
        "patch_importance_sort_index = np.argsort(importance_vector[300]).flatten()"
      ],
      "execution_count": null,
      "outputs": []
    },
    {
      "cell_type": "code",
      "metadata": {
        "id": "h1Mp_7jQ6ib7",
        "outputId": "eecfbc03-3467-4947-beb2-db937f4a1819"
      },
      "source": [
        "top_k_patch_index = patch_importance_sort_index[-11:-1]\n",
        "# get top k important patches' centers position\n",
        "centers = patch_centers[top_k_patch_index].cpu().numpy()\n",
        "print(centers.shape)"
      ],
      "execution_count": null,
      "outputs": [
        {
          "output_type": "stream",
          "text": [
            "(10, 2)\n"
          ],
          "name": "stdout"
        }
      ]
    },
    {
      "cell_type": "markdown",
      "metadata": {
        "id": "57zur03_DyuM"
      },
      "source": [
        "Show the top 10 selected important patched."
      ]
    },
    {
      "cell_type": "code",
      "metadata": {
        "id": "_3gLI5OV6ib7",
        "outputId": "1f9363e5-f3d8-4f07-8ee8-d664c0ba057f"
      },
      "source": [
        "plt.imshow(input_hist[300][0,0,:,:],'gray')\n",
        "plt.axis('off')\n",
        "plt.figure(figsize=(10,10))\n",
        "for i in range(10):\n",
        "    plt.subplot(1,10,i+1)\n",
        "    c = int(centers[i,0])\n",
        "    l = int(centers[i,1])\n",
        "    plt.imshow(input_hist[300][0,1,c-5:c+5,l-5:l+5],'gray')\n",
        "    plt.axis('off')"
      ],
      "execution_count": null,
      "outputs": [
        {
          "output_type": "display_data",
          "data": {
            "image/png": "[encoded data removed]",
            "text/plain": [
              "<Figure size 432x288 with 1 Axes>"
            ]
          },
          "metadata": {
            "tags": [],
            "needs_background": "light"
          }
        },
        {
          "output_type": "display_data",
          "data": {
            "image/png": "[encoded data removed]",
            "text/plain": [
              "<Figure size 720x720 with 10 Axes>"
            ]
          },
          "metadata": {
            "tags": [],
            "needs_background": "light"
          }
        }
      ]
    },
    {
      "cell_type": "code",
      "metadata": {
        "id": "rJ_K7rAw6ib7",
        "outputId": "0f4c3a0a-556d-4397-d79f-09d58b8efa29"
      },
      "source": [
        "top_k_patch_index = patch_importance_sort_index[0:10]\n",
        "# get top k important patches' centers position\n",
        "centers = patch_centers[top_k_patch_index].cpu().numpy()\n",
        "print(centers.shape)"
      ],
      "execution_count": null,
      "outputs": [
        {
          "output_type": "stream",
          "text": [
            "(10, 2)\n"
          ],
          "name": "stdout"
        }
      ]
    },
    {
      "cell_type": "markdown",
      "metadata": {
        "id": "K9fIyZt2DniM"
      },
      "source": [
        "Show the least important 10 selected patched."
      ]
    },
    {
      "cell_type": "code",
      "metadata": {
        "id": "PH00-1Ht6ib7",
        "outputId": "609f1db4-c7d8-4d2f-e3c2-8a0641c65dc8"
      },
      "source": [
        "plt.imshow(input_hist[300][0,0,:,:],'gray')\n",
        "plt.axis('off')\n",
        "plt.figure(figsize=(10,10))\n",
        "plt.figure(figsize=(10,10))\n",
        "for i in range(10):\n",
        "    plt.subplot(1,10,i+1)\n",
        "    c = int(centers[i,0])\n",
        "    l = int(centers[i,1])\n",
        "    plt.imshow(input_hist[300][0,1,c-5:c+5,l-5:l+5],'gray')\n",
        "    plt.axis('off')"
      ],
      "execution_count": null,
      "outputs": [
        {
          "output_type": "display_data",
          "data": {
            "image/png": "[encoded data removed]",
            "text/plain": [
              "<Figure size 432x288 with 1 Axes>"
            ]
          },
          "metadata": {
            "tags": [],
            "needs_background": "light"
          }
        },
        {
          "output_type": "display_data",
          "data": {
            "text/plain": [
              "<Figure size 720x720 with 0 Axes>"
            ]
          },
          "metadata": {
            "tags": []
          }
        },
        {
          "output_type": "display_data",
          "data": {
            "image/png": "[encoded data removed]",
            "text/plain": [
              "<Figure size 720x720 with 10 Axes>"
            ]
          },
          "metadata": {
            "tags": [],
            "needs_background": "light"
          }
        }
      ]
    },
    {
      "cell_type": "code",
      "metadata": {
        "id": "eS95dYTR6ib8"
      },
      "source": [
        ""
      ],
      "execution_count": null,
      "outputs": []
    }
  ]
}