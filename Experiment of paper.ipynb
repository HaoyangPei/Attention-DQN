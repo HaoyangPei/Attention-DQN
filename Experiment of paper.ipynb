{
 "cells": [
  {
   "cell_type": "markdown",
   "metadata": {
    "id": "Yv-oqf__VLfY"
   },
   "source": [
    "# Paper method implementation"
   ]
  },
  {
   "cell_type": "markdown",
   "metadata": {
    "id": "GIlWhaopVQjA"
   },
   "source": [
    "This is our implementation of the paper *Neuroevolution of Self-Interpretable Agents*, which is the theory basis of our project. \n",
    "\n",
    "In this notebook, we implement the Self-Attention modthod on LSTM based on the CarRacing game in the Gym environment. "
   ]
  },
  {
   "cell_type": "markdown",
   "metadata": {
    "id": "TPgwML2SVZ60"
   },
   "source": [
    "## 1. Prepare the environment \n",
    "\n",
    "Install Gym and Gym[box2d] environments and other useful packages including display related tool which is needed for the game observation."
   ]
  },
  {
   "cell_type": "code",
   "execution_count": null,
   "metadata": {
    "colab": {
     "base_uri": "https://localhost:8080/"
    },
    "executionInfo": {
     "elapsed": 61335,
     "status": "ok",
     "timestamp": 1619165416270,
     "user": {
      "displayName": "Haoyang Pei",
      "photoUrl": "",
      "userId": "06801520420272400009"
     },
     "user_tz": -480
    },
    "id": "F5SFOEMYYFDD",
    "outputId": "fe3dfa4d-c750-4e0f-e388-c78c1b5ab401"
   },
   "outputs": [
    {
     "name": "stdout",
     "output_type": "stream",
     "text": [
      "\r0% [Working]\r            \rGet:1 https://cloud.r-project.org/bin/linux/ubuntu bionic-cran40/ InRelease [3,626 B]\n",
      "Ign:2 https://developer.download.nvidia.com/compute/cuda/repos/ubuntu1804/x86_64  InRelease\n",
      "Ign:3 https://developer.download.nvidia.com/compute/machine-learning/repos/ubuntu1804/x86_64  InRelease\n",
      "Get:4 https://developer.download.nvidia.com/compute/cuda/repos/ubuntu1804/x86_64  Release [697 B]\n",
      "Hit:5 https://developer.download.nvidia.com/compute/machine-learning/repos/ubuntu1804/x86_64  Release\n",
      "Get:6 https://developer.download.nvidia.com/compute/cuda/repos/ubuntu1804/x86_64  Release.gpg [836 B]\n",
      "Get:7 http://ppa.launchpad.net/c2d4u.team/c2d4u4.0+/ubuntu bionic InRelease [15.9 kB]\n",
      "Hit:8 http://archive.ubuntu.com/ubuntu bionic InRelease\n",
      "Get:10 http://security.ubuntu.com/ubuntu bionic-security InRelease [88.7 kB]\n",
      "Get:11 http://archive.ubuntu.com/ubuntu bionic-updates InRelease [88.7 kB]\n",
      "Ign:12 https://developer.download.nvidia.com/compute/cuda/repos/ubuntu1804/x86_64  Packages\n",
      "Get:12 https://developer.download.nvidia.com/compute/cuda/repos/ubuntu1804/x86_64  Packages [741 kB]\n",
      "Hit:13 http://ppa.launchpad.net/cran/libgit2/ubuntu bionic InRelease\n",
      "Get:14 http://security.ubuntu.com/ubuntu bionic-security/main amd64 Packages [2,116 kB]\n",
      "Get:15 http://archive.ubuntu.com/ubuntu bionic-backports InRelease [74.6 kB]\n",
      "Hit:16 http://ppa.launchpad.net/deadsnakes/ppa/ubuntu bionic InRelease\n",
      "Get:17 http://archive.ubuntu.com/ubuntu bionic-updates/main amd64 Packages [2,546 kB]\n",
      "Hit:18 http://ppa.launchpad.net/graphics-drivers/ppa/ubuntu bionic InRelease\n",
      "Get:19 http://ppa.launchpad.net/c2d4u.team/c2d4u4.0+/ubuntu bionic/main Sources [1,756 kB]\n",
      "Get:20 http://archive.ubuntu.com/ubuntu bionic-updates/multiverse amd64 Packages [31.6 kB]\n",
      "Get:21 http://archive.ubuntu.com/ubuntu bionic-updates/restricted amd64 Packages [426 kB]\n",
      "Get:22 http://archive.ubuntu.com/ubuntu bionic-updates/universe amd64 Packages [2,181 kB]\n",
      "Get:23 http://ppa.launchpad.net/c2d4u.team/c2d4u4.0+/ubuntu bionic/main amd64 Packages [899 kB]\n",
      "Fetched 11.0 MB in 4s (2,882 kB/s)\n",
      "Reading package lists... Done\n",
      "Requirement already satisfied: gym in /usr/local/lib/python3.7/dist-packages (0.17.3)\n",
      "Requirement already satisfied: scipy in /usr/local/lib/python3.7/dist-packages (from gym) (1.4.1)\n",
      "Requirement already satisfied: pyglet<=1.5.0,>=1.4.0 in /usr/local/lib/python3.7/dist-packages (from gym) (1.5.0)\n",
      "Requirement already satisfied: cloudpickle<1.7.0,>=1.2.0 in /usr/local/lib/python3.7/dist-packages (from gym) (1.3.0)\n",
      "Requirement already satisfied: numpy>=1.10.4 in /usr/local/lib/python3.7/dist-packages (from gym) (1.19.5)\n",
      "Requirement already satisfied: future in /usr/local/lib/python3.7/dist-packages (from pyglet<=1.5.0,>=1.4.0->gym) (0.16.0)\n",
      "Requirement already satisfied: gym[box2d] in /usr/local/lib/python3.7/dist-packages (0.17.3)\n",
      "Requirement already satisfied: numpy>=1.10.4 in /usr/local/lib/python3.7/dist-packages (from gym[box2d]) (1.19.5)\n",
      "Requirement already satisfied: cloudpickle<1.7.0,>=1.2.0 in /usr/local/lib/python3.7/dist-packages (from gym[box2d]) (1.3.0)\n",
      "Requirement already satisfied: scipy in /usr/local/lib/python3.7/dist-packages (from gym[box2d]) (1.4.1)\n",
      "Requirement already satisfied: pyglet<=1.5.0,>=1.4.0 in /usr/local/lib/python3.7/dist-packages (from gym[box2d]) (1.5.0)\n",
      "Collecting box2d-py~=2.3.5; extra == \"box2d\"\n",
      "\u001b[?25l  Downloading https://files.pythonhosted.org/packages/87/34/da5393985c3ff9a76351df6127c275dcb5749ae0abbe8d5210f06d97405d/box2d_py-2.3.8-cp37-cp37m-manylinux1_x86_64.whl (448kB)\n",
      "\u001b[K     |████████████████████████████████| 450kB 9.0MB/s \n",
      "\u001b[?25hRequirement already satisfied: future in /usr/local/lib/python3.7/dist-packages (from pyglet<=1.5.0,>=1.4.0->gym[box2d]) (0.16.0)\n",
      "Installing collected packages: box2d-py\n",
      "Successfully installed box2d-py-2.3.8\n",
      "Reading package lists... Done\n",
      "Building dependency tree       \n",
      "Reading state information... Done\n",
      "The following package was automatically installed and is no longer required:\n",
      "  libnvidia-common-460\n",
      "Use 'apt autoremove' to remove it.\n",
      "Suggested packages:\n",
      "  libgle3\n",
      "The following NEW packages will be installed:\n",
      "  python-opengl\n",
      "0 upgraded, 1 newly installed, 0 to remove and 36 not upgraded.\n",
      "Need to get 496 kB of archives.\n",
      "After this operation, 5,416 kB of additional disk space will be used.\n",
      "Get:1 http://archive.ubuntu.com/ubuntu bionic/universe amd64 python-opengl all 3.1.0+dfsg-1 [496 kB]\n",
      "Fetched 496 kB in 1s (448 kB/s)\n",
      "Selecting previously unselected package python-opengl.\n",
      "(Reading database ... 160690 files and directories currently installed.)\n",
      "Preparing to unpack .../python-opengl_3.1.0+dfsg-1_all.deb ...\n",
      "Unpacking python-opengl (3.1.0+dfsg-1) ...\n",
      "Setting up python-opengl (3.1.0+dfsg-1) ...\n",
      "Reading package lists... Done\n",
      "Building dependency tree       \n",
      "Reading state information... Done\n",
      "ffmpeg is already the newest version (7:3.4.8-0ubuntu0.2).\n",
      "The following package was automatically installed and is no longer required:\n",
      "  libnvidia-common-460\n",
      "Use 'apt autoremove' to remove it.\n",
      "0 upgraded, 0 newly installed, 0 to remove and 36 not upgraded.\n",
      "Reading package lists... Done\n",
      "Building dependency tree       \n",
      "Reading state information... Done\n",
      "The following package was automatically installed and is no longer required:\n",
      "  libnvidia-common-460\n",
      "Use 'apt autoremove' to remove it.\n",
      "The following additional packages will be installed:\n",
      "  libxxf86dga1\n",
      "Suggested packages:\n",
      "  mesa-utils\n",
      "The following NEW packages will be installed:\n",
      "  libxxf86dga1 x11-utils xvfb\n",
      "0 upgraded, 3 newly installed, 0 to remove and 36 not upgraded.\n",
      "Need to get 994 kB of archives.\n",
      "After this operation, 2,981 kB of additional disk space will be used.\n",
      "Get:1 http://archive.ubuntu.com/ubuntu bionic/main amd64 libxxf86dga1 amd64 2:1.1.4-1 [13.7 kB]\n",
      "Get:2 http://archive.ubuntu.com/ubuntu bionic/main amd64 x11-utils amd64 7.7+3build1 [196 kB]\n",
      "Get:3 http://archive.ubuntu.com/ubuntu bionic-updates/universe amd64 xvfb amd64 2:1.19.6-1ubuntu4.9 [784 kB]\n",
      "Fetched 994 kB in 1s (829 kB/s)\n",
      "Selecting previously unselected package libxxf86dga1:amd64.\n",
      "(Reading database ... 163045 files and directories currently installed.)\n",
      "Preparing to unpack .../libxxf86dga1_2%3a1.1.4-1_amd64.deb ...\n",
      "Unpacking libxxf86dga1:amd64 (2:1.1.4-1) ...\n",
      "Selecting previously unselected package x11-utils.\n",
      "Preparing to unpack .../x11-utils_7.7+3build1_amd64.deb ...\n",
      "Unpacking x11-utils (7.7+3build1) ...\n",
      "Selecting previously unselected package xvfb.\n",
      "Preparing to unpack .../xvfb_2%3a1.19.6-1ubuntu4.9_amd64.deb ...\n",
      "Unpacking xvfb (2:1.19.6-1ubuntu4.9) ...\n",
      "Setting up xvfb (2:1.19.6-1ubuntu4.9) ...\n",
      "Setting up libxxf86dga1:amd64 (2:1.1.4-1) ...\n",
      "Setting up x11-utils (7.7+3build1) ...\n",
      "Processing triggers for man-db (2.8.3-2ubuntu0.1) ...\n",
      "Processing triggers for libc-bin (2.27-3ubuntu1.2) ...\n",
      "/sbin/ldconfig.real: /usr/local/lib/python3.7/dist-packages/ideep4py/lib/libmkldnn.so.0 is not a symbolic link\n",
      "\n",
      "Collecting pyvirtualdisplay==0.2.*\n",
      "  Downloading https://files.pythonhosted.org/packages/69/ec/8221a07850d69fa3c57c02e526edd23d18c7c05d58ed103e3b19172757c1/PyVirtualDisplay-0.2.5-py2.py3-none-any.whl\n",
      "Requirement already satisfied: PyOpenGL==3.1.* in /usr/local/lib/python3.7/dist-packages (3.1.5)\n",
      "Collecting PyOpenGL-accelerate==3.1.*\n",
      "\u001b[?25l  Downloading https://files.pythonhosted.org/packages/a2/3c/f42a62b7784c04b20f8b88d6c8ad04f4f20b0767b721102418aad94d8389/PyOpenGL-accelerate-3.1.5.tar.gz (538kB)\n",
      "\u001b[K     |████████████████████████████████| 542kB 7.3MB/s \n",
      "\u001b[?25hCollecting EasyProcess\n",
      "  Downloading https://files.pythonhosted.org/packages/48/3c/75573613641c90c6d094059ac28adb748560d99bd27ee6f80cce398f404e/EasyProcess-0.3-py2.py3-none-any.whl\n",
      "Building wheels for collected packages: PyOpenGL-accelerate\n",
      "  Building wheel for PyOpenGL-accelerate (setup.py) ... \u001b[?25l\u001b[?25hdone\n",
      "  Created wheel for PyOpenGL-accelerate: filename=PyOpenGL_accelerate-3.1.5-cp37-cp37m-linux_x86_64.whl size=1599127 sha256=a6134858deb0b455998d9f3f139095b8c0d3f0907afcc81ef2942d2f6a8638e0\n",
      "  Stored in directory: /root/.cache/pip/wheels/bd/21/77/99670ceca25fddb3c2b60a7ae44644b8253d1006e8ec417bcc\n",
      "Successfully built PyOpenGL-accelerate\n",
      "Installing collected packages: EasyProcess, pyvirtualdisplay, PyOpenGL-accelerate\n",
      "Successfully installed EasyProcess-0.3 PyOpenGL-accelerate-3.1.5 pyvirtualdisplay-0.2.5\n",
      "Collecting cma\n",
      "\u001b[?25l  Downloading https://files.pythonhosted.org/packages/36/c0/0a1c41f7cad0a51e07991cf86423d0e6651d035f1fe7dcff48e8858848f2/cma-3.0.3-py2.py3-none-any.whl (230kB)\n",
      "\u001b[K     |████████████████████████████████| 235kB 8.6MB/s \n",
      "\u001b[?25hRequirement already satisfied: numpy in /usr/local/lib/python3.7/dist-packages (from cma) (1.19.5)\n",
      "Installing collected packages: cma\n",
      "Successfully installed cma-3.0.3\n"
     ]
    }
   ],
   "source": [
    "!sudo apt-get update\n",
    "!pip install gym\n",
    "!pip install gym[box2d]\n",
    "!apt install python-opengl\n",
    "!apt install ffmpeg\n",
    "!apt-get install -y xvfb x11-utils\n",
    "!pip install pyvirtualdisplay==0.2.* PyOpenGL==3.1.* PyOpenGL-accelerate==3.1.*\n",
    "!pip install cma"
   ]
  },
  {
   "cell_type": "code",
   "execution_count": null,
   "metadata": {
    "id": "t6G7UxZmVC4L"
   },
   "outputs": [],
   "source": [
    "import os\n",
    "from typing import Dict, List, Tuple\n",
    "\n",
    "import gym\n",
    "from gym import spaces\n",
    "from gym.envs.box2d.car_dynamics import Car\n",
    "from pyvirtualdisplay import Display\n",
    "\n",
    "import pyglet\n",
    "from pyglet import gl\n",
    "\n",
    "import matplotlib.pyplot as plt\n",
    "import numpy as np\n",
    "import torch\n",
    "import torch.nn as nn\n",
    "import torch.nn.functional as F\n",
    "import torch.optim as optim\n",
    "from IPython.display import clear_output\n",
    "\n",
    "import cma\n",
    "from torchvision import transforms"
   ]
  },
  {
   "cell_type": "markdown",
   "metadata": {
    "id": "plaUXnjmQsP7"
   },
   "source": [
    "Load CarRacing environment from gym, and we can see that the observation is a image screen with the shape of 96*96*3. The action space is 3*1, with each value ranges from -1 to 1, which is not discrete."
   ]
  },
  {
   "cell_type": "code",
   "execution_count": null,
   "metadata": {
    "colab": {
     "base_uri": "https://localhost:8080/"
    },
    "executionInfo": {
     "elapsed": 2456,
     "status": "ok",
     "timestamp": 1619166474864,
     "user": {
      "displayName": "Haoyang Pei",
      "photoUrl": "",
      "userId": "06801520420272400009"
     },
     "user_tz": -480
    },
    "id": "7hMWGe0JWNWS",
    "outputId": "41e2c6f5-d81e-4581-92b0-b3cd57daf25f"
   },
   "outputs": [
    {
     "name": "stdout",
     "output_type": "stream",
     "text": [
      "Box(-1.0, 1.0, (3,), float32)\n",
      "Box(0, 255, (96, 96, 3), uint8)\n"
     ]
    },
    {
     "name": "stderr",
     "output_type": "stream",
     "text": [
      "/usr/local/lib/python3.7/dist-packages/gym/logger.py:30: UserWarning: \u001b[33mWARN: Box bound precision lowered by casting to float32\u001b[0m\n",
      "  warnings.warn(colorize('%s: %s'%('WARN', msg % args), 'yellow'))\n"
     ]
    }
   ],
   "source": [
    "env = gym.make('CarRacing-v0')\n",
    "env = gym.wrappers.Monitor(env, \"videos\", force=True)\n",
    "\n",
    "print(env.action_space)\n",
    "print(env.observation_space)"
   ]
  },
  {
   "cell_type": "code",
   "execution_count": null,
   "metadata": {
    "colab": {
     "base_uri": "https://localhost:8080/",
     "height": 305
    },
    "executionInfo": {
     "elapsed": 4078,
     "status": "ok",
     "timestamp": 1619166477742,
     "user": {
      "displayName": "Haoyang Pei",
      "photoUrl": "",
      "userId": "06801520420272400009"
     },
     "user_tz": -480
    },
    "id": "DqDck41sbF7u",
    "outputId": "03506b59-78b3-4c24-da4f-5f46574e559e"
   },
   "outputs": [
    {
     "name": "stdout",
     "output_type": "stream",
     "text": [
      "Track generation: 1304..1634 -> 330-tiles track\n"
     ]
    },
    {
     "data": {
      "text/plain": [
       "<matplotlib.image.AxesImage at 0x7f26bd54ef50>"
      ]
     },
     "execution_count": 4,
     "metadata": {
      "tags": []
     },
     "output_type": "execute_result"
    },
    {
     "data": {
      "image/png": "[encoded data removed]",
      "text/plain": [
       "<Figure size 432x288 with 1 Axes>"
      ]
     },
     "metadata": {
      "needs_background": "light",
      "tags": []
     },
     "output_type": "display_data"
    }
   ],
   "source": [
    "render = True\n",
    "n_episodes = 1\n",
    "\n",
    "from pyvirtualdisplay import Display\n",
    "display = Display(visible=0, size=(400, 600))\n",
    "display.start()\n",
    "\n",
    "env.reset()\n",
    "prev_screen = env.render(mode='rgb_array')\n",
    "plt.imshow(prev_screen)"
   ]
  },
  {
   "cell_type": "code",
   "execution_count": null,
   "metadata": {
    "colab": {
     "base_uri": "https://localhost:8080/"
    },
    "executionInfo": {
     "elapsed": 27021,
     "status": "ok",
     "timestamp": 1618762927330,
     "user": {
      "displayName": "Haoyang Pei",
      "photoUrl": "",
      "userId": "06801520420272400009"
     },
     "user_tz": -480
    },
    "id": "2pr4mj1zqRgc",
    "outputId": "212d53bd-0edf-4199-af9d-771951e690e5"
   },
   "outputs": [
    {
     "name": "stdout",
     "output_type": "stream",
     "text": [
      "Track generation: 963..1208 -> 245-tiles track\n",
      "0\n",
      "100\n",
      "200\n",
      "300\n",
      "400\n",
      "500\n",
      "600\n",
      "700\n",
      "800\n",
      "900\n",
      "Episode 0 finished after 1000 timesteps\n",
      "Reward: -22.131147540983733\n"
     ]
    }
   ],
   "source": [
    "# https://github.com/nbgraham/RL-Race-Car-Simulator\n",
    "render = True\n",
    "n_episodes = 1\n",
    "\n",
    "rewards = []\n",
    "observation_list = []\n",
    "render_list = []\n",
    "for i_episode in range(n_episodes):\n",
    "    observation = env.reset()\n",
    "    sum_reward = 0\n",
    "    for t in range(1000):\n",
    "        if render:\n",
    "            render_list.append(env.render(mode='rgb_array'))\n",
    "        # [steering, gas, brake]\n",
    "        action = env.action_space.sample()\n",
    "        # observation is 96x96x3\n",
    "        observation, reward, done, _ = env.step(action)\n",
    "        observation_list.append(observation)\n",
    "        #print(len(observation))\n",
    "        #print(len(observation[0]))\n",
    "        #print(len(observation[0][0]))\n",
    "        #print(observation)\n",
    "        # break\n",
    "        sum_reward += reward\n",
    "        if(t % 100 == 0):\n",
    "            print(t)\n",
    "        if done or t == 999:\n",
    "            print(\"Episode {} finished after {} timesteps\".format(i_episode, t+1))\n",
    "            print(\"Reward: {}\".format(sum_reward))\n",
    "            rewards.append(sum_reward)\n",
    "        if done:\n",
    "            break"
   ]
  },
  {
   "cell_type": "code",
   "execution_count": null,
   "metadata": {
    "colab": {
     "base_uri": "https://localhost:8080/",
     "height": 286
    },
    "executionInfo": {
     "elapsed": 27016,
     "status": "ok",
     "timestamp": 1618762927331,
     "user": {
      "displayName": "Haoyang Pei",
      "photoUrl": "",
      "userId": "06801520420272400009"
     },
     "user_tz": -480
    },
    "id": "idUrWO1ksag2",
    "outputId": "edd437ea-930e-4010-8abf-43e11423fe83"
   },
   "outputs": [
    {
     "data": {
      "text/plain": [
       "<matplotlib.image.AxesImage at 0x7f0a3d232410>"
      ]
     },
     "execution_count": 6,
     "metadata": {
      "tags": []
     },
     "output_type": "execute_result"
    },
    {
     "data": {
      "image/png": "[encoded data removed]",
      "text/plain": [
       "<Figure size 432x288 with 1 Axes>"
      ]
     },
     "metadata": {
      "needs_background": "light",
      "tags": []
     },
     "output_type": "display_data"
    }
   ],
   "source": [
    "plt.imshow(observation_list[100])"
   ]
  },
  {
   "cell_type": "code",
   "execution_count": null,
   "metadata": {
    "colab": {
     "base_uri": "https://localhost:8080/",
     "height": 287
    },
    "executionInfo": {
     "elapsed": 27010,
     "status": "ok",
     "timestamp": 1618762927332,
     "user": {
      "displayName": "Haoyang Pei",
      "photoUrl": "",
      "userId": "06801520420272400009"
     },
     "user_tz": -480
    },
    "id": "7jDIsi2Hteuh",
    "outputId": "6beff200-90b0-444c-f5e1-23b9a2e9e4f6"
   },
   "outputs": [
    {
     "data": {
      "text/plain": [
       "<matplotlib.image.AxesImage at 0x7f0a3d20f4d0>"
      ]
     },
     "execution_count": 7,
     "metadata": {
      "tags": []
     },
     "output_type": "execute_result"
    },
    {
     "data": {
      "image/png": "[encoded data removed]",
      "text/plain": [
       "<Figure size 432x288 with 1 Axes>"
      ]
     },
     "metadata": {
      "needs_background": "light",
      "tags": []
     },
     "output_type": "display_data"
    }
   ],
   "source": [
    "plt.imshow(render_list[100])"
   ]
  },
  {
   "cell_type": "markdown",
   "metadata": {
    "id": "_ispCYpfbkGW"
   },
   "source": [
    "## 2.Define Model\n"
   ]
  },
  {
   "cell_type": "markdown",
   "metadata": {
    "id": "ugs6W_e94lXj"
   },
   "source": [
    "### 1) Create Base Module\n",
    "\n",
    "The base model contains basic functions, including setting the weights of the network."
   ]
  },
  {
   "cell_type": "code",
   "execution_count": null,
   "metadata": {
    "id": "w19USLis4kAR"
   },
   "outputs": [],
   "source": [
    "class BaseModule(nn.Module):\n",
    "    \"\"\"Base class for all Module.\"\"\"\n",
    "\n",
    "    def __init__(self):\n",
    "        self._layers = []\n",
    "        super(BaseModule, self).__init__()\n",
    "\n",
    "    def get_output(self, inputs, update_filter=False):\n",
    "        torch.set_num_threads(1)\n",
    "        with torch.no_grad():\n",
    "            return self._get_output(inputs, update_filter)\n",
    "\n",
    "    def _get_output(self, inputs, update_filter):\n",
    "        raise NotImplementedError()\n",
    "\n",
    "    def get_params(self):\n",
    "        params = []\n",
    "        for layer in self._layers:\n",
    "            weight_dict = layer.state_dict()\n",
    "            for k in sorted(weight_dict.keys()):\n",
    "                #params.append(weight_dict[k].cuda().data.cpu().numpy().copy().ravel())\n",
    "                params.append(weight_dict[k].cpu().numpy().copy().ravel())\n",
    "        return np.concatenate(params)\n",
    "\n",
    "    def set_params(self, params):\n",
    "        offset = 0\n",
    "        for i, layer in enumerate(self._layers):\n",
    "            weights_to_set = {}\n",
    "            weight_dict = layer.state_dict()\n",
    "            for k in sorted(weight_dict.keys()):\n",
    "                weight = weight_dict[k].cpu().numpy()\n",
    "                weight_size = weight.size\n",
    "                weights_to_set[k] = params[offset:(offset + weight_size)].reshape(weight.shape)\n",
    "                offset += weight_size\n",
    "            self._layers[i].load_state_dict(state_dict=weights_to_set)\n",
    "\n",
    "    def get_params_from_layer(self, layer_index):\n",
    "        params = []\n",
    "        layer = self._layers[layer_index]\n",
    "        weight_dict = layer.state_dict()\n",
    "        for k in sorted(weight_dict.keys()):\n",
    "            params.append(weight_dict[k].numpy().copy().ravel())\n",
    "        return np.concatenate(params)\n",
    "\n",
    "    def set_params_to_layer(self, params, layer_index):\n",
    "        weights_to_set = {}\n",
    "        weight_dict = self._layers[layer_index].state_dict()\n",
    "        offset = 0\n",
    "        for k in sorted(weight_dict.keys()):\n",
    "            weight = weight_dict[k].numpy()\n",
    "            weight_size = weight.size\n",
    "            weights_to_set[k] = torch.from_numpy(\n",
    "                params[offset:(offset + weight_size)].reshape(weight.shape)).cuda().data.cpu().numpy()\n",
    "            offset += weight_size\n",
    "        self._layers[layer_index].load_state_dict(state_dict=weights_to_set)\n",
    "\n",
    "    def get_num_params_per_layer(self):\n",
    "        num_params_per_layer = []\n",
    "        for layer in self._layers:\n",
    "            weight_dict = layer.state_dict()\n",
    "            num_params = 0\n",
    "            for k in sorted(weight_dict.keys()):\n",
    "                weights = weight_dict[k].numpy()\n",
    "                num_params += weights.size\n",
    "            num_params_per_layer.append(num_params)\n",
    "        return num_params_per_layer\n",
    "\n",
    "    def _save_to_file(self, filename):\n",
    "        params = self.get_params()\n",
    "        np.savez(filename, params=params)\n",
    "\n",
    "    def save(self, log_dir, iter_count, best_so_far):\n",
    "        filename = os.path.join(log_dir, 'model_{}.npz'.format(iter_count))\n",
    "        self._save_to_file(filename=filename)\n",
    "        if best_so_far:\n",
    "            filename = os.path.join(log_dir, 'best_model.npz')\n",
    "            self._save_to_file(filename=filename)\n",
    "\n",
    "    def load(self, filename):\n",
    "        with np.load(filename) as data:\n",
    "            params = data['params']\n",
    "            self.set_params(params)\n",
    "\n",
    "    def reset(self):\n",
    "        raise NotImplementedError()\n",
    "\n",
    "    @property\n",
    "    def layers(self):\n",
    "        return self._layers"
   ]
  },
  {
   "cell_type": "markdown",
   "metadata": {
    "id": "ytsWBBbTcz50"
   },
   "source": [
    "### 2) Self-attention Module\n",
    "\n",
    "In the self-attention network, the input data will be flattened and are operated with multiplication to get the importance matrix and k top patches will be selected as important positions for later operations."
   ]
  },
  {
   "cell_type": "code",
   "execution_count": null,
   "metadata": {
    "id": "VruZo6olDKZV"
   },
   "outputs": [],
   "source": [
    "#https://github.com/google/brain-tokyo-workshop/blob/master/AttentionAgent/solutions/torch_solutions.py\n",
    "class SelfAttention(nn.Module):\n",
    "    \"\"\"A simple self-attention solution.\"\"\"\n",
    "\n",
    "    def __init__(self, data_dim, dim_q):\n",
    "        super(SelfAttention, self).__init__()\n",
    "        self._layers = []\n",
    "        self.fc_q = nn.Linear(data_dim, dim_q).cuda()\n",
    "        self._layers.append(self.fc_q)\n",
    "        self.fc_k = nn.Linear(data_dim, dim_q).cuda()\n",
    "        self._layers.append(self.fc_k)\n",
    "\n",
    "    def forward(self, input_data):\n",
    "        # Expect input_data to be of shape (b, t, k).\n",
    "        b, t, k = input_data.size()\n",
    "\n",
    "        # Linear transforms.\n",
    "        queries = self.fc_q(input=input_data.cuda())  # (b, t, q)\n",
    "        keys = self.fc_k(input=input_data.cuda())  # (b, t, q)\n",
    "\n",
    "        # Attention matrix.\n",
    "        dot = torch.bmm(queries, keys.transpose(1, 2))  # (b, t, t)\n",
    "        scaled_dot = torch.div(dot, torch.sqrt(torch.tensor(k).float())) # scale\n",
    "        return scaled_dot\n",
    "    @property\n",
    "    def layers(self):\n",
    "        return self._layers"
   ]
  },
  {
   "cell_type": "markdown",
   "metadata": {
    "id": "qaYp3Ww4dkbG"
   },
   "source": [
    "### 3) LSTM Module\n",
    "\n",
    "This network helps to make prediction on actions based input observations. The inputs are those selected ones from the self-attention model."
   ]
  },
  {
   "cell_type": "code",
   "execution_count": null,
   "metadata": {
    "id": "EVC4cNW8TK4f"
   },
   "outputs": [],
   "source": [
    "class LSTM(nn.Module):\n",
    "    \"\"\"LSTM layers.\"\"\"\n",
    "\n",
    "    def __init__(self, input_dim, num_units, output_dim):\n",
    "        super(LSTM, self).__init__()\n",
    "        self._layers = []\n",
    "        self.hidden_layers = 1\n",
    "        self.hidden_size = num_units[0] if len(num_units) else output_dim\n",
    "        self.hidden = (\n",
    "            torch.zeros((self.hidden_layers, 1, self.hidden_size)).cuda(),\n",
    "            torch.zeros((self.hidden_layers, 1, self.hidden_size)).cuda(),\n",
    "        )\n",
    "        \n",
    "        # define LSTM\n",
    "        self.lstm = nn.LSTM(\n",
    "            input_size=input_dim, # expected input features number\n",
    "            hidden_size=self.hidden_size, # hidden state features number\n",
    "            num_layers=self.hidden_layers, # hidden layers number\n",
    "        ).cuda()\n",
    "        self._layers.append(self.lstm)\n",
    "\n",
    "        # applies a linear transformation to the incoming data\n",
    "        fc = nn.Linear(\n",
    "            in_features=self.hidden_size,\n",
    "            out_features=output_dim,\n",
    "        ).cuda()\n",
    "        self._layers.append(fc)\n",
    "        \n",
    "\n",
    "    def forward(self, input_data):\n",
    "        x_input = input_data\n",
    "        x_output, self.hidden = self._layers[0](\n",
    "            x_input.view(1, 1, -1), self.hidden)\n",
    "        x_output = torch.flatten(x_output, start_dim=0, end_dim=-1)\n",
    "        x_output = self._layers[-1](x_output)\n",
    "        return x_output\n",
    "\n",
    "    def reset(self):\n",
    "        # reset weights in hidden layers\n",
    "        self.hidden = (\n",
    "            torch.zeros((self.hidden_layers, 1, self.hidden_size)).cuda(),\n",
    "            torch.zeros((self.hidden_layers, 1, self.hidden_size)).cuda(),\n",
    "        )\n",
    "\n",
    "    @property\n",
    "    def layers(self):\n",
    "        return self._layers"
   ]
  },
  {
   "cell_type": "markdown",
   "metadata": {
    "id": "9xF78Gh5TS2j"
   },
   "source": [
    "### 4) MLP Module\n",
    "\n",
    "MLP model intialize the LSTM network to make preditions, and also processes on the input and output for agent to use."
   ]
  },
  {
   "cell_type": "code",
   "execution_count": null,
   "metadata": {
    "id": "6Bkoc_ZdTZBC"
   },
   "outputs": [],
   "source": [
    "class MLPModule(BaseModule):\n",
    "    \"\"\"Multi-layer perception.\"\"\"\n",
    "    def __init__(self, input_dim, num_hiddens, output_dim, output_activation, l2_coefficient):\n",
    "        super(MLPModule, self).__init__()\n",
    "        self.output_dim = output_dim\n",
    "        self.output_activation = output_activation\n",
    "        self.l2_coefficient = abs(l2_coefficient)\n",
    "        \n",
    "        # use LSTM module\n",
    "        self.fc_stack = LSTM(\n",
    "            input_dim=input_dim,\n",
    "            num_units=num_hiddens,\n",
    "            output_dim=output_dim,\n",
    "        ).cuda()\n",
    "\n",
    "        self._layers = self.fc_stack.layers\n",
    "\n",
    "    def get_output(self, inputs, updates_filter=False):\n",
    "        # get input\n",
    "        if not isinstance(inputs, torch.Tensor):\n",
    "            inputs = torch.from_numpy(inputs).float()\n",
    "\n",
    "        # apply to LSTM   \n",
    "        fc_output = self.fc_stack(inputs)\n",
    "\n",
    "        # set activation function to be tanh\n",
    "        output = torch.tanh(fc_output).squeeze().detach().cpu().numpy()\n",
    "\n",
    "        return output\n",
    "\n",
    "    def reset(self):\n",
    "        if hasattr(self.fc_stack, 'reset'):\n",
    "            self.fc_stack.reset()\n",
    "            print('hidden reset.')"
   ]
  },
  {
   "cell_type": "markdown",
   "metadata": {
    "id": "h0RQFulzLBFA"
   },
   "source": [
    "### 5) AttentionAgent\n",
    "\n",
    "Agent will send the observation to the previous defined models and make prediction on actions to make based on the result from them. The observation 96 * 96 * 3 will be segmented into 7 * 7 * 3 patched, and they will be processed by the self-attention model. Top k patched will be processed to affect the decision making. When an action is made, it will update to a new observation."
   ]
  },
  {
   "cell_type": "code",
   "execution_count": null,
   "metadata": {
    "id": "CZ3JL_B6LIGT"
   },
   "outputs": [],
   "source": [
    "class AttentionAgent(BaseModule):\n",
    "  \"\"\"Selective Attention Model\"\"\"\n",
    "  def __init__(self, image_size, patch_size, patch_stride, top_k, data_dim, query_dim, num_hiddens, output_dim):\n",
    "    super(AttentionAgent, self).__init__()\n",
    "    self.image_size = image_size\n",
    "    self.patch_size = patch_size\n",
    "    self.patch_stride = patch_stride\n",
    "    self.top_k = top_k\n",
    "\n",
    "    self.transform = transforms.Compose([\n",
    "        transforms.ToPILImage(),\n",
    "        transforms.Resize((image_size, image_size)),\n",
    "        transforms.ToTensor(),\n",
    "    ])\n",
    "    \n",
    "    #get patch center location\n",
    "    n = int((image_size - patch_size) / patch_stride + 1)\n",
    "    offset = self.patch_size // 2\n",
    "    patch_centers = []\n",
    "    for i in range(n):\n",
    "        patch_center_row = offset + i * patch_stride\n",
    "        for j in range(n):\n",
    "            patch_center_col = offset + j * patch_stride\n",
    "            patch_centers.append([patch_center_row, patch_center_col])\n",
    "    self.patch_centers = torch.tensor(patch_centers).float()\n",
    "    num_patches = n ** 2\n",
    "    \n",
    "    #define attention layers\n",
    "    self.attention = SelfAttention(\n",
    "        data_dim=data_dim * self.patch_size ** 2,\n",
    "        dim_q=query_dim,\n",
    "    ).cuda()\n",
    "    print(self.attention)\n",
    "    self._layers.extend(self.attention.layers)\n",
    "\n",
    "    #define controller\n",
    "    self.controller = MLPModule(\n",
    "        input_dim=self.top_k * 2,\n",
    "        num_hiddens=num_hiddens,\n",
    "        output_dim=output_dim,\n",
    "        output_activation=\"tanh\",\n",
    "        l2_coefficient=0,\n",
    "    ).cuda()\n",
    "    print(self.controller.layers)\n",
    "    self._layers.extend(self.controller.layers)\n",
    "\n",
    "  def temp(self):\n",
    "    print(self.input_dim,self.output_dim,self.num_hiddens)\n",
    "\n",
    "  def get_result(self, inputs):\n",
    "    # -------Input Transformation--------\n",
    "    # observation.shape = (h, w, c)\n",
    "    observation = self.transform(inputs).permute(1, 2, 0)\n",
    "    h, w, c = observation.size()\n",
    "    # dim = (18, 96, 3, 7) -> (18, 7, 96, 3) if image size = 96\n",
    "    patches = observation.unfold(0, self.patch_size, self.patch_stride).permute(0, 3, 1, 2)\n",
    "    # dim = (18, 7, 18, 3, 7) -> (18, 18, 7, 7, 3) if image size = 96\n",
    "    patches = patches.unfold(2, self.patch_size, self.patch_stride).permute(0, 2, 1, 4, 3)\n",
    "    # dim = (324, 7, 7, 3) if image size = 96\n",
    "    patches = patches.reshape((-1, self.patch_size, self.patch_size, c))\n",
    "    # flattened_patches.shape = (1, n, p * p * c)\n",
    "    flattened_patches = patches.reshape((1, -1, c * self.patch_size ** 2))\n",
    "\n",
    "    # -------Importance voting-------\n",
    "    # attention_matrix.shape = (1, n, n)\n",
    "    attention_matrix = self.attention(flattened_patches)\n",
    "    # patch_importance_matrix.shape = (n, n)\n",
    "    patch_importance_matrix = torch.softmax(attention_matrix.squeeze(), dim=-1)\n",
    "    # patch_importance.shape = (n,)\n",
    "    patch_importance = patch_importance_matrix.sum(dim=0)\n",
    "\n",
    "    # -------Patch Selection and Feature Extraction-------\n",
    "    # extract top k important patches\n",
    "    patch_importance_sort_index = torch.argsort(patch_importance, descending=True)\n",
    "    top_k_patch_index = patch_importance_sort_index[:self.top_k]\n",
    "    # get top k important patches' centers position\n",
    "    centers = self.patch_centers[top_k_patch_index]\n",
    "    centers = centers.flatten(0, -1)\n",
    "    # normalize position\n",
    "    centers = centers / self.image_size\n",
    "    centers = centers.cuda()\n",
    "\n",
    "    # get action\n",
    "    return self.controller.get_output(centers)\n"
   ]
  },
  {
   "cell_type": "markdown",
   "metadata": {
    "id": "u1pPI6A0DOU8"
   },
   "source": [
    "## 3.Neuroevolution of the Agent(CMA-ES)\n",
    "\n",
    "\n",
    "CMA-ES algorithm is used for optimization. \n",
    "GUIDE link here：https://blog.otoro.net/2017/10/29/visual-evolution-strategies/"
   ]
  },
  {
   "cell_type": "code",
   "execution_count": null,
   "metadata": {
    "colab": {
     "base_uri": "https://localhost:8080/"
    },
    "executionInfo": {
     "elapsed": 781,
     "status": "ok",
     "timestamp": 1619166501937,
     "user": {
      "displayName": "Haoyang Pei",
      "photoUrl": "",
      "userId": "06801520420272400009"
     },
     "user_tz": -480
    },
    "id": "zYcNH_2SwBfP",
    "outputId": "078697fd-db1f-4773-e27c-58360f2d6d3b"
   },
   "outputs": [
    {
     "name": "stdout",
     "output_type": "stream",
     "text": [
      "fatal: destination path 'estool' already exists and is not an empty directory.\n"
     ]
    }
   ],
   "source": [
    "!git clone https://github.com/hardmaru/estool.git\n",
    "import sys\n",
    "sys.path.append(\"/content/estool/\")\n",
    "from es import CMAES\n",
    "\n",
    "import numpy as np\n",
    "import matplotlib.pyplot as plt"
   ]
  },
  {
   "cell_type": "code",
   "execution_count": null,
   "metadata": {
    "id": "3yi7zNB3u9uO"
   },
   "outputs": [],
   "source": [
    "class CMA(CMAES):\n",
    "    \"\"\"CMA algorithm.\"\"\"\n",
    "\n",
    "    def __init__(self, seed, population_size, init_sigma, init_params):\n",
    "        \"\"\"Create a wrapper of cmapy.\"\"\"\n",
    "\n",
    "        self._algorithm = cma.CMAEvolutionStrategy(\n",
    "            x0=init_params,\n",
    "            sigma0=init_sigma,\n",
    "            inopts={\n",
    "                'popsize': population_size,\n",
    "                'seed': seed if seed > 0 else 42,  # ignored if seed is 0\n",
    "                'randn': np.random.randn,\n",
    "            },\n",
    "        )\n",
    "        self._population = None\n",
    "\n",
    "    def get_result(self):\n",
    "      return super.result()\n",
    "\n",
    "    def get_population(self):\n",
    "        self._population = self._algorithm.ask()\n",
    "        return self._population\n",
    "\n",
    "    def evolve(self, fitness):\n",
    "        self._algorithm.tell(self._population, -fitness)\n",
    "\n",
    "    def get_current_parameters(self):\n",
    "        return self._algorithm.result.xfavorite"
   ]
  },
  {
   "cell_type": "markdown",
   "metadata": {
    "id": "t9mJHjE0DLF9"
   },
   "source": [
    "## 4.Training\n",
    "\n",
    "Start to train the agent with given image size 96*96, and the patch size is 7. With patch stride 5, we can get 529 patches in total, among which we will select top 5 to to process. The self-attention and the LSTM will be trained to select important patches reasonably and make predictions, respectively. And as there only need to train with selected patched, the trainable parameter are much fewer compared to those in regular training. "
   ]
  },
  {
   "cell_type": "code",
   "execution_count": null,
   "metadata": {
    "colab": {
     "base_uri": "https://localhost:8080/"
    },
    "executionInfo": {
     "elapsed": 725,
     "status": "ok",
     "timestamp": 1619166614623,
     "user": {
      "displayName": "Haoyang Pei",
      "photoUrl": "",
      "userId": "06801520420272400009"
     },
     "user_tz": -480
    },
    "id": "QxM5_GJjDde_",
    "outputId": "2f866638-2588-4b58-8ffb-f13805b09c1d"
   },
   "outputs": [
    {
     "name": "stdout",
     "output_type": "stream",
     "text": [
      "SelfAttention(\n",
      "  (fc_q): Linear(in_features=147, out_features=4, bias=True)\n",
      "  (fc_k): Linear(in_features=147, out_features=4, bias=True)\n",
      ")\n",
      "[LSTM(10, 16), Linear(in_features=16, out_features=3, bias=True)]\n"
     ]
    }
   ],
   "source": [
    "IMAGE_SIZE = 96\n",
    "PATCH_SIZE = 7\n",
    "PATCH_STRIDE = 5\n",
    "TOP_K = 5\n",
    "DATA_DIM = 3\n",
    "QUERY_DIM = 4\n",
    "NUM_HIDDENS = [16,]\n",
    "OUTPUT_DIM = 3\n",
    "\n",
    "agent = AttentionAgent(IMAGE_SIZE, PATCH_SIZE, PATCH_STRIDE, TOP_K, DATA_DIM, QUERY_DIM, NUM_HIDDENS, OUTPUT_DIM)"
   ]
  },
  {
   "cell_type": "code",
   "execution_count": null,
   "metadata": {
    "id": "IM6MDtICLwI-"
   },
   "outputs": [],
   "source": [
    "# use gpu to train\n",
    "agent = agent.cuda()"
   ]
  },
  {
   "cell_type": "code",
   "execution_count": null,
   "metadata": {
    "colab": {
     "base_uri": "https://localhost:8080/"
    },
    "executionInfo": {
     "elapsed": 566,
     "status": "ok",
     "timestamp": 1619165727835,
     "user": {
      "displayName": "Haoyang Pei",
      "photoUrl": "",
      "userId": "06801520420272400009"
     },
     "user_tz": -480
    },
    "id": "SARU6Q1jlorr",
    "outputId": "f8bfa943-5ebe-4cce-cfad-153df3f8aac5"
   },
   "outputs": [
    {
     "data": {
      "text/plain": [
       "(3027,)"
      ]
     },
     "execution_count": 14,
     "metadata": {
      "tags": []
     },
     "output_type": "execute_result"
    }
   ],
   "source": [
    "a = agent.get_params()\n",
    "a.shape"
   ]
  },
  {
   "cell_type": "code",
   "execution_count": null,
   "metadata": {
    "id": "DawhxCxhRet9"
   },
   "outputs": [],
   "source": [
    "action_high = np.array([1., 1., 1.])\n",
    "action_low = np.array([-1., 0., 0.])\n",
    "def roll_out(params):\n",
    "\n",
    "  agent.set_params(params)\n",
    "  render = False\n",
    "  n_episodes = 1\n",
    "\n",
    "  rewards = []\n",
    "\n",
    "  for i_episode in range(n_episodes):\n",
    "      observation = env.reset()\n",
    "      sum_reward = []\n",
    "      done = False\n",
    "      while not done:\n",
    "          # [steering, gas, brake]\n",
    "          #action = agent.get_result(env.render(mode='rgb_array'))\n",
    "          action = agent.get_result(observation)\n",
    "          action = (action * (action_high - action_low) / 2. + (action_high + action_low) / 2.)\n",
    "          # observation is 96x96x3\n",
    "          observation, reward, done, _ = env.step(action)\n",
    "          \n",
    "          sum_reward.append(reward)\n",
    "\n",
    "      actual_reward = np.sum(sum_reward)\n",
    "      rewards.append(actual_reward)\n",
    "  return np.array(rewards).sum()/n_episodes"
   ]
  },
  {
   "cell_type": "code",
   "execution_count": null,
   "metadata": {
    "id": "SRHHwukrRcWh"
   },
   "outputs": [],
   "source": [
    "SEED = 0\n",
    "POPULATION_SIZE = 256\n",
    "INIT_SIGMA = 0.1"
   ]
  },
  {
   "cell_type": "code",
   "execution_count": null,
   "metadata": {
    "colab": {
     "base_uri": "https://localhost:8080/"
    },
    "executionInfo": {
     "elapsed": 763,
     "status": "ok",
     "timestamp": 1619165733724,
     "user": {
      "displayName": "Haoyang Pei",
      "photoUrl": "",
      "userId": "06801520420272400009"
     },
     "user_tz": -480
    },
    "id": "1xsHCek2DbsR",
    "outputId": "785344ea-556c-42e5-b716-cde55fe81e5e"
   },
   "outputs": [
    {
     "name": "stdout",
     "output_type": "stream",
     "text": [
      "(5_w,10)-aCMA-ES (mu_w=3.2,w_1=45%) in dimension 3027 (seed=253794, Fri Apr 23 08:15:34 2021)\n"
     ]
    }
   ],
   "source": [
    "#https://github.com/google/brain-tokyo-workshop/blob/master/AttentionAgent/algorithms/cma.py\n",
    "#https://github.com/hardmaru/estool/blob/master/simple_es_example.ipynb\n",
    "import cma\n",
    "# defines CMA-ES algorithm solver\n",
    "cmaes = CMAES(agent.get_params(),\n",
    "              popsize=POPULATION_SIZE,\n",
    "              weight_decay=0.1,\n",
    "              sigma_init = INIT_SIGMA\n",
    "          )"
   ]
  },
  {
   "cell_type": "code",
   "execution_count": null,
   "metadata": {
    "colab": {
     "base_uri": "https://localhost:8080/"
    },
    "id": "8LgjEbLsdL4X",
    "outputId": "6270ebea-5538-40aa-d31f-188e19f9f97d"
   },
   "outputs": [
    {
     "name": "stdout",
     "output_type": "stream",
     "text": [
      "pop: 1\n",
      "Track generation: 1114..1397 -> 283-tiles track\n",
      "pop: 2\n",
      "Track generation: 1176..1475 -> 299-tiles track\n",
      "pop: 3\n",
      "Track generation: 1175..1473 -> 298-tiles track\n",
      "pop: 4\n",
      "Track generation: 1113..1404 -> 291-tiles track\n",
      "pop: 5\n",
      "Track generation: 993..1251 -> 258-tiles track\n",
      "pop: 6\n",
      "Track generation: 1218..1534 -> 316-tiles track\n",
      "pop: 7\n",
      "Track generation: 1103..1387 -> 284-tiles track\n",
      "pop: 8\n",
      "Track generation: 1020..1280 -> 260-tiles track\n",
      "pop: 9\n",
      "Track generation: 1108..1389 -> 281-tiles track\n",
      "pop: 10\n",
      "Track generation: 1129..1423 -> 294-tiles track\n",
      "Track generation: 1276..1598 -> 322-tiles track\n",
      "fitness at iteration 1 16.732468434591897\n",
      "current reward -34.57943925233664\n",
      "pop: 1\n",
      "Track generation: 1108..1389 -> 281-tiles track\n",
      "pop: 2\n",
      "Track generation: 1132..1419 -> 287-tiles track\n",
      "pop: 3\n",
      "Track generation: 1003..1262 -> 259-tiles track\n",
      "retry to generate track (normal if there are not manyinstances of this message)\n",
      "Track generation: 1228..1539 -> 311-tiles track\n",
      "pop: 4\n",
      "Track generation: 1224..1534 -> 310-tiles track\n",
      "pop: 5\n",
      "Track generation: 1243..1558 -> 315-tiles track\n",
      "pop: 6\n",
      "Track generation: 1111..1400 -> 289-tiles track\n",
      "pop: 7\n",
      "Track generation: 1191..1493 -> 302-tiles track\n",
      "pop: 8\n",
      "Track generation: 1208..1514 -> 306-tiles track\n",
      "pop: 9\n",
      "Track generation: 1192..1493 -> 301-tiles track\n",
      "pop: 10\n",
      "Track generation: 1168..1464 -> 296-tiles track\n",
      "Track generation: 1284..1609 -> 325-tiles track\n",
      "fitness at iteration 2 16.732468434591897\n",
      "current reward -35.18518518518539\n",
      "pop: 1\n",
      "Track generation: 1053..1320 -> 267-tiles track\n",
      "pop: 2\n",
      "Track generation: 1043..1307 -> 264-tiles track\n",
      "pop: 3\n",
      "Track generation: 1095..1373 -> 278-tiles track\n",
      "pop: 4\n",
      "Track generation: 984..1234 -> 250-tiles track\n",
      "pop: 5\n",
      "Track generation: 1106..1390 -> 284-tiles track\n",
      "retry to generate track (normal if there are not manyinstances of this message)\n",
      "Track generation: 1263..1589 -> 326-tiles track\n",
      "pop: 6\n",
      "Track generation: 1200..1504 -> 304-tiles track\n",
      "pop: 7\n",
      "Track generation: 1089..1366 -> 277-tiles track\n",
      "pop: 8\n",
      "Track generation: 1214..1531 -> 317-tiles track\n",
      "pop: 9\n",
      "Track generation: 1127..1413 -> 286-tiles track\n",
      "pop: 10\n",
      "Track generation: 1032..1303 -> 271-tiles track\n",
      "Track generation: 1200..1504 -> 304-tiles track\n",
      "fitness at iteration 3 16.732468434591897\n",
      "current reward -30.693069306930763\n",
      "pop: 1\n",
      "Track generation: 1079..1353 -> 274-tiles track\n",
      "pop: 2\n",
      "Track generation: 1153..1445 -> 292-tiles track\n",
      "pop: 3\n",
      "Track generation: 1204..1509 -> 305-tiles track\n",
      "pop: 4\n",
      "Track generation: 1255..1573 -> 318-tiles track\n",
      "pop: 5\n",
      "Track generation: 1040..1304 -> 264-tiles track\n",
      "pop: 6\n",
      "Track generation: 1158..1452 -> 294-tiles track\n",
      "pop: 7\n",
      "Track generation: 1153..1445 -> 292-tiles track\n",
      "pop: 8\n",
      "Track generation: 1152..1446 -> 294-tiles track\n",
      "pop: 9\n",
      "Track generation: 1170..1474 -> 304-tiles track\n",
      "pop: 10\n",
      "Track generation: 1123..1408 -> 285-tiles track\n",
      "Track generation: 1179..1478 -> 299-tiles track\n",
      "fitness at iteration 4 16.732468434591897\n",
      "current reward -29.53020134228189\n",
      "pop: 1\n",
      "Track generation: 1142..1431 -> 289-tiles track\n",
      "pop: 2\n",
      "Track generation: 1119..1403 -> 284-tiles track\n",
      "pop: 3\n",
      "Track generation: 1103..1387 -> 284-tiles track\n",
      "pop: 4\n",
      "Track generation: 1284..1609 -> 325-tiles track\n",
      "pop: 5\n",
      "Track generation: 1080..1354 -> 274-tiles track\n",
      "pop: 6\n",
      "Track generation: 1018..1284 -> 266-tiles track\n",
      "pop: 7\n",
      "Track generation: 1197..1501 -> 304-tiles track\n",
      "pop: 8\n",
      "Track generation: 1072..1344 -> 272-tiles track\n",
      "pop: 9\n",
      "Track generation: 960..1213 -> 253-tiles track\n",
      "pop: 10\n",
      "Track generation: 1059..1328 -> 269-tiles track\n",
      "Track generation: 1239..1553 -> 314-tiles track\n",
      "fitness at iteration 5 19.049877434357317\n",
      "current reward -32.90734824281165\n",
      "pop: 1\n",
      "Track generation: 1153..1449 -> 296-tiles track\n",
      "retry to generate track (normal if there are not manyinstances of this message)\n",
      "Track generation: 1151..1443 -> 292-tiles track\n",
      "pop: 2\n",
      "Track generation: 1099..1385 -> 286-tiles track\n",
      "pop: 3\n",
      "Track generation: 1086..1361 -> 275-tiles track\n",
      "pop: 4\n",
      "Track generation: 1246..1562 -> 316-tiles track\n",
      "pop: 5\n",
      "Track generation: 996..1249 -> 253-tiles track\n",
      "pop: 6\n",
      "Track generation: 1009..1266 -> 257-tiles track\n",
      "pop: 7\n",
      "Track generation: 1178..1484 -> 306-tiles track\n",
      "pop: 8\n",
      "Track generation: 1277..1600 -> 323-tiles track\n",
      "pop: 9\n",
      "Track generation: 1111..1393 -> 282-tiles track\n",
      "pop: 10\n",
      "Track generation: 908..1144 -> 236-tiles track\n",
      "Track generation: 1063..1333 -> 270-tiles track\n",
      "fitness at iteration 6 27.66209066482127\n",
      "current reward -21.933085501858514\n",
      "pop: 1\n",
      "Track generation: 1250..1601 -> 351-tiles track\n",
      "retry to generate track (normal if there are not manyinstances of this message)\n",
      "Track generation: 1200..1504 -> 304-tiles track\n",
      "pop: 2\n",
      "Track generation: 955..1206 -> 251-tiles track\n",
      "pop: 3\n",
      "Track generation: 1172..1469 -> 297-tiles track\n",
      "pop: 4\n",
      "Track generation: 1192..1494 -> 302-tiles track\n",
      "pop: 5\n",
      "Track generation: 1028..1289 -> 261-tiles track\n",
      "pop: 6\n",
      "Track generation: 1168..1464 -> 296-tiles track\n",
      "pop: 7\n",
      "Track generation: 1117..1406 -> 289-tiles track\n",
      "pop: 8\n",
      "Track generation: 1133..1420 -> 287-tiles track\n",
      "pop: 9\n",
      "Track generation: 1228..1539 -> 311-tiles track\n",
      "pop: 10\n",
      "Track generation: 1084..1366 -> 282-tiles track\n",
      "Track generation: 1284..1609 -> 325-tiles track\n",
      "fitness at iteration 7 27.66209066482127\n",
      "current reward -35.1851851851854\n",
      "pop: 1\n",
      "Track generation: 1082..1357 -> 275-tiles track\n",
      "pop: 2\n",
      "Track generation: 988..1239 -> 251-tiles track\n",
      "pop: 3\n",
      "Track generation: 1002..1264 -> 262-tiles track\n",
      "pop: 4\n",
      "Track generation: 1152..1444 -> 292-tiles track\n",
      "pop: 5\n",
      "Track generation: 977..1235 -> 258-tiles track\n",
      "pop: 6\n",
      "Track generation: 1140..1429 -> 289-tiles track\n",
      "pop: 7\n",
      "Track generation: 1172..1469 -> 297-tiles track\n",
      "pop: 8\n",
      "Track generation: 1120..1410 -> 290-tiles track\n"
     ]
    }
   ],
   "source": [
    "MAX_ITERATION = 2000\n",
    "history = []\n",
    "reward = []\n",
    "\n",
    "# tran loop\n",
    "for j in range(MAX_ITERATION):\n",
    "  solutions = torch.from_numpy(cmaes.ask()).cuda()\n",
    "  fitness_list = torch.from_numpy(np.zeros(POPULATION_SIZE)).cuda()\n",
    "\n",
    "  for i in range(POPULATION_SIZE):\n",
    "    print(\"pop:\",i+1)\n",
    "    fitness_list[i] = roll_out(solutions[i,:])\n",
    "\n",
    "  cmaes.tell(fitness_list.cpu())\n",
    "  result = cmaes.result() # first element is the best solution, second element is the best fitness\n",
    "\n",
    "  history.append(result[1])\n",
    "  reward.append((roll_out(torch.from_numpy(result[0]).cuda())))\n",
    "\n",
    "  if (j+1) % 1 == 0:\n",
    "    print(\"fitness at iteration\", (j+1), history[j])\n",
    "    print(\"current reward\", reward[j])\n",
    "\n",
    "print(\"Finished!\")\n",
    "agent.set_params(cmaes.result.xfavorite)"
   ]
  },
  {
   "cell_type": "markdown",
   "metadata": {
    "id": "4bSvIt58XYYj"
   },
   "source": [
    "# Reference"
   ]
  },
  {
   "cell_type": "markdown",
   "metadata": {
    "id": "zj0kmLPVO3Ww"
   },
   "source": [
    "Here is our implementation reference:\n",
    "- https://github.com/google/brain-tokyo-workshop/tree/master/AttentionAgent\n",
    "- https://colab.research.google.com/github/pytorch/tutorials/blob/gh-pages/_downloads/2b3f06b04b5e96e4772746c20fcb4dcc/reinforcement_q_learning.ipynb#scrollTo=30NQYxKuolfC"
   ]
  }
 ],
 "metadata": {
  "accelerator": "GPU",
  "colab": {
   "collapsed_sections": [],
   "machine_shape": "hm",
   "name": "Experiment of paper.ipynb",
   "provenance": []
  },
  "kernelspec": {
   "display_name": "Python 3",
   "name": "python3"
  },
  "language_info": {
   "name": "python"
  }
 },
 "nbformat": 4,
 "nbformat_minor": 0
}
